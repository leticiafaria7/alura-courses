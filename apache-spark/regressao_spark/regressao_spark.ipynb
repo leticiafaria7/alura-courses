{
  "nbformat": 4,
  "nbformat_minor": 0,
  "metadata": {
    "colab": {
      "provenance": [],
      "toc_visible": true,
      "authorship_tag": "ABX9TyM4jWyRQgRL9nZqIsEZYaLD",
      "include_colab_link": true
    },
    "kernelspec": {
      "name": "python3",
      "display_name": "Python 3"
    },
    "language_info": {
      "name": "python"
    }
  },
  "cells": [
    {
      "cell_type": "markdown",
      "metadata": {
        "id": "view-in-github",
        "colab_type": "text"
      },
      "source": [
        "<a href=\"https://colab.research.google.com/github/leticiafaria7/alura-courses/blob/main/apache-spark/regressao_spark/regressao_spark.ipynb\" target=\"_parent\"><img src=\"https://colab.research.google.com/assets/colab-badge.svg\" alt=\"Open In Colab\"/></a>"
      ]
    },
    {
      "cell_type": "markdown",
      "source": [
        "# Regressão com Spark\n",
        "Objetivo: prever preços de imóveis com base nas suas características"
      ],
      "metadata": {
        "id": "5TsNaUAfpny7"
      }
    },
    {
      "cell_type": "markdown",
      "source": [
        "## Preparando os dados"
      ],
      "metadata": {
        "id": "8YSgQq9sqxgn"
      }
    },
    {
      "cell_type": "code",
      "execution_count": 2,
      "metadata": {
        "colab": {
          "base_uri": "https://localhost:8080/"
        },
        "id": "rRvQm3uPpgCr",
        "outputId": "c159ae30-e3ef-4c2b-a3d7-dac562f25652"
      },
      "outputs": [
        {
          "output_type": "stream",
          "name": "stdout",
          "text": [
            "Collecting pyspark\n",
            "  Downloading pyspark-3.5.0.tar.gz (316.9 MB)\n",
            "\u001b[2K     \u001b[90m━━━━━━━━━━━━━━━━━━━━━━━━━━━━━━━━━━━━━━━━\u001b[0m \u001b[32m316.9/316.9 MB\u001b[0m \u001b[31m2.5 MB/s\u001b[0m eta \u001b[36m0:00:00\u001b[0m\n",
            "\u001b[?25h  Preparing metadata (setup.py) ... \u001b[?25l\u001b[?25hdone\n",
            "Requirement already satisfied: py4j==0.10.9.7 in /usr/local/lib/python3.10/dist-packages (from pyspark) (0.10.9.7)\n",
            "Building wheels for collected packages: pyspark\n",
            "  Building wheel for pyspark (setup.py) ... \u001b[?25l\u001b[?25hdone\n",
            "  Created wheel for pyspark: filename=pyspark-3.5.0-py2.py3-none-any.whl size=317425345 sha256=c1176bb242d75bb817b0215cbbc47dea59c5558ee82fcff6356aeeee5d688c3d\n",
            "  Stored in directory: /root/.cache/pip/wheels/41/4e/10/c2cf2467f71c678cfc8a6b9ac9241e5e44a01940da8fbb17fc\n",
            "Successfully built pyspark\n",
            "Installing collected packages: pyspark\n",
            "Successfully installed pyspark-3.5.0\n"
          ]
        }
      ],
      "source": [
        "!pip install pyspark"
      ]
    },
    {
      "cell_type": "code",
      "source": [
        "from pyspark.sql import SparkSession\n",
        "\n",
        "spark = SparkSession.builder\\\n",
        ".master('local[*]')\\\n",
        ".appName(\"Regressão com Spark\")\\\n",
        ".getOrCreate()\n",
        "\n",
        "spark"
      ],
      "metadata": {
        "colab": {
          "base_uri": "https://localhost:8080/",
          "height": 219
        },
        "id": "cF1_fD9wq6cE",
        "outputId": "69080886-1232-4845-e0af-46f1c0c3c3df"
      },
      "execution_count": 3,
      "outputs": [
        {
          "output_type": "execute_result",
          "data": {
            "text/plain": [
              "<pyspark.sql.session.SparkSession at 0x7e4c29d2bfa0>"
            ],
            "text/html": [
              "\n",
              "            <div>\n",
              "                <p><b>SparkSession - in-memory</b></p>\n",
              "                \n",
              "        <div>\n",
              "            <p><b>SparkContext</b></p>\n",
              "\n",
              "            <p><a href=\"http://8fb434649e6a:4040\">Spark UI</a></p>\n",
              "\n",
              "            <dl>\n",
              "              <dt>Version</dt>\n",
              "                <dd><code>v3.5.0</code></dd>\n",
              "              <dt>Master</dt>\n",
              "                <dd><code>local[*]</code></dd>\n",
              "              <dt>AppName</dt>\n",
              "                <dd><code>Regressão com Spark</code></dd>\n",
              "            </dl>\n",
              "        </div>\n",
              "        \n",
              "            </div>\n",
              "        "
            ]
          },
          "metadata": {},
          "execution_count": 3
        }
      ]
    },
    {
      "cell_type": "code",
      "source": [
        "import pandas as pd\n",
        "import matplotlib.pyplot as plt\n",
        "import seaborn as sns\n",
        "\n",
        "from pyspark.sql.types import IntegerType, DoubleType\n",
        "from pyspark.sql import functions as f\n",
        "from pyspark.ml.feature import VectorAssembler\n",
        "from pyspark.ml.stat import Correlation\n",
        "from pyspark.ml.regression import LinearRegression\n",
        "from pyspark.ml.regression import DecisionTreeRegressor\n",
        "from pyspark.ml.evaluation import RegressionEvaluator\n",
        "from pyspark.ml.regression import RandomForestRegressor"
      ],
      "metadata": {
        "id": "RfTnSHQIx1I9"
      },
      "execution_count": 75,
      "outputs": []
    },
    {
      "cell_type": "code",
      "source": [
        "# montar o drive\n",
        "from google.colab import drive\n",
        "drive.mount('/content/drive')"
      ],
      "metadata": {
        "colab": {
          "base_uri": "https://localhost:8080/"
        },
        "id": "gY4VUbH4rPRw",
        "outputId": "99db64e1-0119-4317-e871-549d97b9f1f8"
      },
      "execution_count": 5,
      "outputs": [
        {
          "output_type": "stream",
          "name": "stdout",
          "text": [
            "Mounted at /content/drive\n"
          ]
        }
      ]
    },
    {
      "cell_type": "markdown",
      "source": [
        "[JSON Viewer](https://jsonviewer.stack.hu/)"
      ],
      "metadata": {
        "id": "Znvrp0Kysx63"
      }
    },
    {
      "cell_type": "code",
      "source": [
        "dados = spark.read.json(\n",
        "    '/content/drive/MyDrive/5. Cursos/programming/alura-courses/apache-spark/regressao_spark/aula01/imoveis.json'\n",
        ")"
      ],
      "metadata": {
        "id": "hw5_rI4qrnHD"
      },
      "execution_count": 6,
      "outputs": []
    },
    {
      "cell_type": "code",
      "source": [
        "dados.show(truncate = False)"
      ],
      "metadata": {
        "colab": {
          "base_uri": "https://localhost:8080/"
        },
        "id": "PSTQi5TktpHo",
        "outputId": "a7452b8b-8f92-48bc-c576-2e2f97503e3f"
      },
      "execution_count": 7,
      "outputs": [
        {
          "output_type": "stream",
          "name": "stdout",
          "text": [
            "+--------------------------+-----------------------------------------------------------------------------------------------------------------------------------------------------------------+\n",
            "|ident                     |listing                                                                                                                                                          |\n",
            "+--------------------------+-----------------------------------------------------------------------------------------------------------------------------------------------------------------+\n",
            "|{775564-BOJSMVON, Website}|{{Rio de Janeiro, {-22.909429, -43.413557}, Taquara, Zona Oeste}, {0, 0, 0, 1, 0, 62, 0, 0, 62}, {45000, {150, 0}}, {Outros, Residencial}}                       |\n",
            "|{660895-AUENKNYY, Website}|{{Rio de Janeiro, {-22.869698, -43.509141}, Santíssimo, Zona Oeste}, {1, 2, 0, 1, 0, 0, 0, 0, 44}, {45000, {120, 0}}, {Apartamento, Residencial}}                |\n",
            "|{751522-JESYFEQL, Website}|{{Rio de Janeiro, {-22.986927, -43.646786}, Pedra de Guaratiba, Zona Oeste}, {0, 0, 0, 0, 0, 132, 0, 0, 132}, {50000, {100, 0}}, {Outros, Residencial}}          |\n",
            "|{714052-GAAEWYKS, Website}|{{Rio de Janeiro, {-22.881977, -43.330818}, Cascadura, Zona Norte}, {1, 0, 0, 0, 0, 32, 3, 0, 32}, {45000, {468, 346}}, {Outros, Comercial}}                     |\n",
            "|{568886-ZIBFOMCC, Website}|{{Rio de Janeiro, {-23.027653, -43.480742}, Recreio dos Bandeirantes, Zona Oeste}, {2, 3, 3, 1, 1, 0, 2, 4, 60}, {50000, {400, 120}}, {Apartamento, Residencial}}|\n",
            "|{526755-OBLTYTEN, Website}|{{Rio de Janeiro, {-22.966059, -43.571183}, Guaratiba, Zona Oeste}, {0, 0, 0, 0, 0, 200, 0, 0, 200}, {50000, {0, NULL}}, {Outros, Residencial}}                  |\n",
            "|{593569-CJLMNFGW, Website}|{{Rio de Janeiro, {-22.939028, -43.3453}, Freguesia (Jacarepaguá), Zona Oeste}, {1, 0, 0, 0, 0, 25, 2, 0, 25}, {50000, {801, 211}}, {Outros, Comercial}}         |\n",
            "|{989181-RYJOLMCU, Website}|{{Rio de Janeiro, {-22.841509, -43.278855}, Penha, Zona Norte}, {1, 0, 0, 0, 0, 23, 0, 0, 23}, {50000, {230, NULL}}, {Outros, Comercial}}                        |\n",
            "|{145372-EZKAKSWM, Website}|{{Rio de Janeiro, {-22.835609, -43.392253}, Ricardo de Albuquerque, Zona Norte}, {0, 0, 0, 0, 0, 60, 0, 0, 60}, {45000, {NULL, NULL}}, {Outros, Comercial}}      |\n",
            "|{792086-NWNQTDYL, Website}|{{Rio de Janeiro, {-22.885306, -43.253044}, Jacarezinho, Zona Norte}, {1, 1, 0, 1, 0, 35, 0, 0, 33}, {45336, {0, 0}}, {Apartamento, Residencial}}                |\n",
            "|{339622-MNZGLKTZ, Website}|{{Rio de Janeiro, {-22.990425, -43.635505}, Guaratiba, Zona Oeste}, {0, 0, 0, 0, 0, 120, 0, 0, 120}, {45000, {0, 0}}, {Outros, Residencial}}                     |\n",
            "|{952338-SVULQMXR, Website}|{{Rio de Janeiro, {-22.877982, -43.651456}, Santa Cruz, Zona Oeste}, {0, 0, 0, 0, 0, 468, 0, 0, 468}, {45000, {0, 0}}, {Outros, Residencial}}                    |\n",
            "|{570439-LDICQOXZ, Website}|{{Rio de Janeiro, {-22.998183, -43.504337}, Vargem Grande, Zona Oeste}, {0, 0, 0, 0, 0, 180, 1, 0, 180}, {50000, {0, 0}}, {Outros, Residencial}}                 |\n",
            "|{684023-YTBNKLLO, Website}|{{Rio de Janeiro, {-22.843794, -43.512464}, Bangu, Zona Oeste}, {0, 0, 0, 0, 0, 128, 0, 0, 128}, {50000, {0, 0}}, {Outros, Residencial}}                         |\n",
            "|{629412-VKUMMAVR, Website}|{{Rio de Janeiro, {-22.91077, -43.37182}, Tanque, Zona Oeste}, {0, 0, 0, 0, 0, 82, 1, 0, 82}, {45000, {300, 0}}, {Outros, Residencial}}                          |\n",
            "|{041590-HMJIRKDX, Website}|{{Rio de Janeiro, {-22.910099, -43.17797}, Centro, Zona Central}, {0, 0, 0, 1, 0, 5, 0, 0, 5}, {45000, {0, 0}}, {Outros, Comercial}}                             |\n",
            "|{870098-XTRYJAGY, Website}|{{Rio de Janeiro, {-22.867219, -43.335067}, Madureira, Zona Norte}, {1, 0, 0, 0, 0, 350, 0, 0, 350}, {50000, {0, 1600}}, {Outros, Comercial}}                    |\n",
            "|{951104-MACIAPIS, Website}|{{Rio de Janeiro, {-22.897014, -43.201575}, Santo Cristo, Zona Central}, {2, 3, 20, 1, 1, 0, 20, 19, 70}, {45000, {350, 120}}, {Apartamento, Residencial}}       |\n",
            "|{375665-GHMFEZXX, Website}|{{Rio de Janeiro, {-22.902419, -43.20952}, Santo Cristo, Zona Central}, {2, 3, 20, 1, 1, 0, 20, 19, 70}, {50000, {350, 120}}, {Apartamento, Residencial}}        |\n",
            "|{441711-LRTWHRUA, Website}|{{Rio de Janeiro, {-22.989852, -43.623097}, Pedra de Guaratiba, Zona Oeste}, {1, 1, 0, 0, 0, 45, 2, 0, 37}, {50000, {0, 0}}, {Apartamento, Residencial}}         |\n",
            "+--------------------------+-----------------------------------------------------------------------------------------------------------------------------------------------------------------+\n",
            "only showing top 20 rows\n",
            "\n"
          ]
        }
      ]
    },
    {
      "cell_type": "code",
      "source": [
        "dados.count()"
      ],
      "metadata": {
        "colab": {
          "base_uri": "https://localhost:8080/"
        },
        "id": "1NGw6Fo0tkHE",
        "outputId": "4d17bb01-438d-4cbb-d2f0-26fa2d6e6375"
      },
      "execution_count": 8,
      "outputs": [
        {
          "output_type": "execute_result",
          "data": {
            "text/plain": [
              "73615"
            ]
          },
          "metadata": {},
          "execution_count": 8
        }
      ]
    },
    {
      "cell_type": "markdown",
      "source": [
        "## Seleção de features"
      ],
      "metadata": {
        "id": "z03KPl5_tyI8"
      }
    },
    {
      "cell_type": "code",
      "source": [
        "dados.printSchema()"
      ],
      "metadata": {
        "colab": {
          "base_uri": "https://localhost:8080/"
        },
        "id": "aX3cflIPtwI7",
        "outputId": "64e7841e-535d-40f6-9474-d0fe9950db87"
      },
      "execution_count": 9,
      "outputs": [
        {
          "output_type": "stream",
          "name": "stdout",
          "text": [
            "root\n",
            " |-- ident: struct (nullable = true)\n",
            " |    |-- customerID: string (nullable = true)\n",
            " |    |-- source: string (nullable = true)\n",
            " |-- listing: struct (nullable = true)\n",
            " |    |-- address: struct (nullable = true)\n",
            " |    |    |-- city: string (nullable = true)\n",
            " |    |    |-- location: struct (nullable = true)\n",
            " |    |    |    |-- lat: double (nullable = true)\n",
            " |    |    |    |-- lon: double (nullable = true)\n",
            " |    |    |-- neighborhood: string (nullable = true)\n",
            " |    |    |-- zone: string (nullable = true)\n",
            " |    |-- features: struct (nullable = true)\n",
            " |    |    |-- bathrooms: long (nullable = true)\n",
            " |    |    |-- bedrooms: long (nullable = true)\n",
            " |    |    |-- floors: long (nullable = true)\n",
            " |    |    |-- parkingSpaces: long (nullable = true)\n",
            " |    |    |-- suites: long (nullable = true)\n",
            " |    |    |-- totalAreas: string (nullable = true)\n",
            " |    |    |-- unitFloor: long (nullable = true)\n",
            " |    |    |-- unitsOnTheFloor: long (nullable = true)\n",
            " |    |    |-- usableAreas: string (nullable = true)\n",
            " |    |-- prices: struct (nullable = true)\n",
            " |    |    |-- price: string (nullable = true)\n",
            " |    |    |-- tax: struct (nullable = true)\n",
            " |    |    |    |-- condo: string (nullable = true)\n",
            " |    |    |    |-- iptu: string (nullable = true)\n",
            " |    |-- types: struct (nullable = true)\n",
            " |    |    |-- unit: string (nullable = true)\n",
            " |    |    |-- usage: string (nullable = true)\n",
            "\n"
          ]
        }
      ]
    },
    {
      "cell_type": "code",
      "source": [
        "dados\\\n",
        ".select('ident.customerID', 'listing.*')\\\n",
        ".show(truncate = False)"
      ],
      "metadata": {
        "colab": {
          "base_uri": "https://localhost:8080/"
        },
        "id": "XKDFPt_OujFt",
        "outputId": "4da13fc7-7333-49ec-8595-0c116a3fc656"
      },
      "execution_count": 10,
      "outputs": [
        {
          "output_type": "stream",
          "name": "stdout",
          "text": [
            "+---------------+--------------------------------------------------------------------------------+-------------------------------+---------------------+--------------------------+\n",
            "|customerID     |address                                                                         |features                       |prices               |types                     |\n",
            "+---------------+--------------------------------------------------------------------------------+-------------------------------+---------------------+--------------------------+\n",
            "|775564-BOJSMVON|{Rio de Janeiro, {-22.909429, -43.413557}, Taquara, Zona Oeste}                 |{0, 0, 0, 1, 0, 62, 0, 0, 62}  |{45000, {150, 0}}    |{Outros, Residencial}     |\n",
            "|660895-AUENKNYY|{Rio de Janeiro, {-22.869698, -43.509141}, Santíssimo, Zona Oeste}              |{1, 2, 0, 1, 0, 0, 0, 0, 44}   |{45000, {120, 0}}    |{Apartamento, Residencial}|\n",
            "|751522-JESYFEQL|{Rio de Janeiro, {-22.986927, -43.646786}, Pedra de Guaratiba, Zona Oeste}      |{0, 0, 0, 0, 0, 132, 0, 0, 132}|{50000, {100, 0}}    |{Outros, Residencial}     |\n",
            "|714052-GAAEWYKS|{Rio de Janeiro, {-22.881977, -43.330818}, Cascadura, Zona Norte}               |{1, 0, 0, 0, 0, 32, 3, 0, 32}  |{45000, {468, 346}}  |{Outros, Comercial}       |\n",
            "|568886-ZIBFOMCC|{Rio de Janeiro, {-23.027653, -43.480742}, Recreio dos Bandeirantes, Zona Oeste}|{2, 3, 3, 1, 1, 0, 2, 4, 60}   |{50000, {400, 120}}  |{Apartamento, Residencial}|\n",
            "|526755-OBLTYTEN|{Rio de Janeiro, {-22.966059, -43.571183}, Guaratiba, Zona Oeste}               |{0, 0, 0, 0, 0, 200, 0, 0, 200}|{50000, {0, NULL}}   |{Outros, Residencial}     |\n",
            "|593569-CJLMNFGW|{Rio de Janeiro, {-22.939028, -43.3453}, Freguesia (Jacarepaguá), Zona Oeste}   |{1, 0, 0, 0, 0, 25, 2, 0, 25}  |{50000, {801, 211}}  |{Outros, Comercial}       |\n",
            "|989181-RYJOLMCU|{Rio de Janeiro, {-22.841509, -43.278855}, Penha, Zona Norte}                   |{1, 0, 0, 0, 0, 23, 0, 0, 23}  |{50000, {230, NULL}} |{Outros, Comercial}       |\n",
            "|145372-EZKAKSWM|{Rio de Janeiro, {-22.835609, -43.392253}, Ricardo de Albuquerque, Zona Norte}  |{0, 0, 0, 0, 0, 60, 0, 0, 60}  |{45000, {NULL, NULL}}|{Outros, Comercial}       |\n",
            "|792086-NWNQTDYL|{Rio de Janeiro, {-22.885306, -43.253044}, Jacarezinho, Zona Norte}             |{1, 1, 0, 1, 0, 35, 0, 0, 33}  |{45336, {0, 0}}      |{Apartamento, Residencial}|\n",
            "|339622-MNZGLKTZ|{Rio de Janeiro, {-22.990425, -43.635505}, Guaratiba, Zona Oeste}               |{0, 0, 0, 0, 0, 120, 0, 0, 120}|{45000, {0, 0}}      |{Outros, Residencial}     |\n",
            "|952338-SVULQMXR|{Rio de Janeiro, {-22.877982, -43.651456}, Santa Cruz, Zona Oeste}              |{0, 0, 0, 0, 0, 468, 0, 0, 468}|{45000, {0, 0}}      |{Outros, Residencial}     |\n",
            "|570439-LDICQOXZ|{Rio de Janeiro, {-22.998183, -43.504337}, Vargem Grande, Zona Oeste}           |{0, 0, 0, 0, 0, 180, 1, 0, 180}|{50000, {0, 0}}      |{Outros, Residencial}     |\n",
            "|684023-YTBNKLLO|{Rio de Janeiro, {-22.843794, -43.512464}, Bangu, Zona Oeste}                   |{0, 0, 0, 0, 0, 128, 0, 0, 128}|{50000, {0, 0}}      |{Outros, Residencial}     |\n",
            "|629412-VKUMMAVR|{Rio de Janeiro, {-22.91077, -43.37182}, Tanque, Zona Oeste}                    |{0, 0, 0, 0, 0, 82, 1, 0, 82}  |{45000, {300, 0}}    |{Outros, Residencial}     |\n",
            "|041590-HMJIRKDX|{Rio de Janeiro, {-22.910099, -43.17797}, Centro, Zona Central}                 |{0, 0, 0, 1, 0, 5, 0, 0, 5}    |{45000, {0, 0}}      |{Outros, Comercial}       |\n",
            "|870098-XTRYJAGY|{Rio de Janeiro, {-22.867219, -43.335067}, Madureira, Zona Norte}               |{1, 0, 0, 0, 0, 350, 0, 0, 350}|{50000, {0, 1600}}   |{Outros, Comercial}       |\n",
            "|951104-MACIAPIS|{Rio de Janeiro, {-22.897014, -43.201575}, Santo Cristo, Zona Central}          |{2, 3, 20, 1, 1, 0, 20, 19, 70}|{45000, {350, 120}}  |{Apartamento, Residencial}|\n",
            "|375665-GHMFEZXX|{Rio de Janeiro, {-22.902419, -43.20952}, Santo Cristo, Zona Central}           |{2, 3, 20, 1, 1, 0, 20, 19, 70}|{50000, {350, 120}}  |{Apartamento, Residencial}|\n",
            "|441711-LRTWHRUA|{Rio de Janeiro, {-22.989852, -43.623097}, Pedra de Guaratiba, Zona Oeste}      |{1, 1, 0, 0, 0, 45, 2, 0, 37}  |{50000, {0, 0}}      |{Apartamento, Residencial}|\n",
            "+---------------+--------------------------------------------------------------------------------+-------------------------------+---------------------+--------------------------+\n",
            "only showing top 20 rows\n",
            "\n"
          ]
        }
      ]
    },
    {
      "cell_type": "code",
      "source": [
        "dados\\\n",
        ".select('ident.customerID', 'listing.types.*', 'listing.features.*', 'listing.address.*', 'listing.prices.price', 'listing.prices.tax.*')\\\n",
        ".show(truncate = False)"
      ],
      "metadata": {
        "colab": {
          "base_uri": "https://localhost:8080/"
        },
        "id": "6de45u3fu4Gt",
        "outputId": "81f8a308-4f57-402b-956a-2ba03db48d00"
      },
      "execution_count": 11,
      "outputs": [
        {
          "output_type": "stream",
          "name": "stdout",
          "text": [
            "+---------------+-----------+-----------+---------+--------+------+-------------+------+----------+---------+---------------+-----------+--------------+------------------------+------------------------+------------+-----+-----+----+\n",
            "|customerID     |unit       |usage      |bathrooms|bedrooms|floors|parkingSpaces|suites|totalAreas|unitFloor|unitsOnTheFloor|usableAreas|city          |location                |neighborhood            |zone        |price|condo|iptu|\n",
            "+---------------+-----------+-----------+---------+--------+------+-------------+------+----------+---------+---------------+-----------+--------------+------------------------+------------------------+------------+-----+-----+----+\n",
            "|775564-BOJSMVON|Outros     |Residencial|0        |0       |0     |1            |0     |62        |0        |0              |62         |Rio de Janeiro|{-22.909429, -43.413557}|Taquara                 |Zona Oeste  |45000|150  |0   |\n",
            "|660895-AUENKNYY|Apartamento|Residencial|1        |2       |0     |1            |0     |0         |0        |0              |44         |Rio de Janeiro|{-22.869698, -43.509141}|Santíssimo              |Zona Oeste  |45000|120  |0   |\n",
            "|751522-JESYFEQL|Outros     |Residencial|0        |0       |0     |0            |0     |132       |0        |0              |132        |Rio de Janeiro|{-22.986927, -43.646786}|Pedra de Guaratiba      |Zona Oeste  |50000|100  |0   |\n",
            "|714052-GAAEWYKS|Outros     |Comercial  |1        |0       |0     |0            |0     |32        |3        |0              |32         |Rio de Janeiro|{-22.881977, -43.330818}|Cascadura               |Zona Norte  |45000|468  |346 |\n",
            "|568886-ZIBFOMCC|Apartamento|Residencial|2        |3       |3     |1            |1     |0         |2        |4              |60         |Rio de Janeiro|{-23.027653, -43.480742}|Recreio dos Bandeirantes|Zona Oeste  |50000|400  |120 |\n",
            "|526755-OBLTYTEN|Outros     |Residencial|0        |0       |0     |0            |0     |200       |0        |0              |200        |Rio de Janeiro|{-22.966059, -43.571183}|Guaratiba               |Zona Oeste  |50000|0    |NULL|\n",
            "|593569-CJLMNFGW|Outros     |Comercial  |1        |0       |0     |0            |0     |25        |2        |0              |25         |Rio de Janeiro|{-22.939028, -43.3453}  |Freguesia (Jacarepaguá) |Zona Oeste  |50000|801  |211 |\n",
            "|989181-RYJOLMCU|Outros     |Comercial  |1        |0       |0     |0            |0     |23        |0        |0              |23         |Rio de Janeiro|{-22.841509, -43.278855}|Penha                   |Zona Norte  |50000|230  |NULL|\n",
            "|145372-EZKAKSWM|Outros     |Comercial  |0        |0       |0     |0            |0     |60        |0        |0              |60         |Rio de Janeiro|{-22.835609, -43.392253}|Ricardo de Albuquerque  |Zona Norte  |45000|NULL |NULL|\n",
            "|792086-NWNQTDYL|Apartamento|Residencial|1        |1       |0     |1            |0     |35        |0        |0              |33         |Rio de Janeiro|{-22.885306, -43.253044}|Jacarezinho             |Zona Norte  |45336|0    |0   |\n",
            "|339622-MNZGLKTZ|Outros     |Residencial|0        |0       |0     |0            |0     |120       |0        |0              |120        |Rio de Janeiro|{-22.990425, -43.635505}|Guaratiba               |Zona Oeste  |45000|0    |0   |\n",
            "|952338-SVULQMXR|Outros     |Residencial|0        |0       |0     |0            |0     |468       |0        |0              |468        |Rio de Janeiro|{-22.877982, -43.651456}|Santa Cruz              |Zona Oeste  |45000|0    |0   |\n",
            "|570439-LDICQOXZ|Outros     |Residencial|0        |0       |0     |0            |0     |180       |1        |0              |180        |Rio de Janeiro|{-22.998183, -43.504337}|Vargem Grande           |Zona Oeste  |50000|0    |0   |\n",
            "|684023-YTBNKLLO|Outros     |Residencial|0        |0       |0     |0            |0     |128       |0        |0              |128        |Rio de Janeiro|{-22.843794, -43.512464}|Bangu                   |Zona Oeste  |50000|0    |0   |\n",
            "|629412-VKUMMAVR|Outros     |Residencial|0        |0       |0     |0            |0     |82        |1        |0              |82         |Rio de Janeiro|{-22.91077, -43.37182}  |Tanque                  |Zona Oeste  |45000|300  |0   |\n",
            "|041590-HMJIRKDX|Outros     |Comercial  |0        |0       |0     |1            |0     |5         |0        |0              |5          |Rio de Janeiro|{-22.910099, -43.17797} |Centro                  |Zona Central|45000|0    |0   |\n",
            "|870098-XTRYJAGY|Outros     |Comercial  |1        |0       |0     |0            |0     |350       |0        |0              |350        |Rio de Janeiro|{-22.867219, -43.335067}|Madureira               |Zona Norte  |50000|0    |1600|\n",
            "|951104-MACIAPIS|Apartamento|Residencial|2        |3       |20    |1            |1     |0         |20       |19             |70         |Rio de Janeiro|{-22.897014, -43.201575}|Santo Cristo            |Zona Central|45000|350  |120 |\n",
            "|375665-GHMFEZXX|Apartamento|Residencial|2        |3       |20    |1            |1     |0         |20       |19             |70         |Rio de Janeiro|{-22.902419, -43.20952} |Santo Cristo            |Zona Central|50000|350  |120 |\n",
            "|441711-LRTWHRUA|Apartamento|Residencial|1        |1       |0     |0            |0     |45        |2        |0              |37         |Rio de Janeiro|{-22.989852, -43.623097}|Pedra de Guaratiba      |Zona Oeste  |50000|0    |0   |\n",
            "+---------------+-----------+-----------+---------+--------+------+-------------+------+----------+---------+---------------+-----------+--------------+------------------------+------------------------+------------+-----+-----+----+\n",
            "only showing top 20 rows\n",
            "\n"
          ]
        }
      ]
    },
    {
      "cell_type": "code",
      "source": [
        "dados\\\n",
        ".select('ident.customerID', 'listing.types.*', 'listing.features.*', 'listing.address.*', 'listing.prices.price', 'listing.prices.tax.*')\\\n",
        ".drop('city', 'location', 'totalAreas')\\\n",
        ".show(truncate = False)"
      ],
      "metadata": {
        "colab": {
          "base_uri": "https://localhost:8080/"
        },
        "id": "Bg1sg3PIvabO",
        "outputId": "c4170958-dfca-450f-e07f-b6427fa7a8d7"
      },
      "execution_count": 12,
      "outputs": [
        {
          "output_type": "stream",
          "name": "stdout",
          "text": [
            "+---------------+-----------+-----------+---------+--------+------+-------------+------+---------+---------------+-----------+------------------------+------------+-----+-----+----+\n",
            "|customerID     |unit       |usage      |bathrooms|bedrooms|floors|parkingSpaces|suites|unitFloor|unitsOnTheFloor|usableAreas|neighborhood            |zone        |price|condo|iptu|\n",
            "+---------------+-----------+-----------+---------+--------+------+-------------+------+---------+---------------+-----------+------------------------+------------+-----+-----+----+\n",
            "|775564-BOJSMVON|Outros     |Residencial|0        |0       |0     |1            |0     |0        |0              |62         |Taquara                 |Zona Oeste  |45000|150  |0   |\n",
            "|660895-AUENKNYY|Apartamento|Residencial|1        |2       |0     |1            |0     |0        |0              |44         |Santíssimo              |Zona Oeste  |45000|120  |0   |\n",
            "|751522-JESYFEQL|Outros     |Residencial|0        |0       |0     |0            |0     |0        |0              |132        |Pedra de Guaratiba      |Zona Oeste  |50000|100  |0   |\n",
            "|714052-GAAEWYKS|Outros     |Comercial  |1        |0       |0     |0            |0     |3        |0              |32         |Cascadura               |Zona Norte  |45000|468  |346 |\n",
            "|568886-ZIBFOMCC|Apartamento|Residencial|2        |3       |3     |1            |1     |2        |4              |60         |Recreio dos Bandeirantes|Zona Oeste  |50000|400  |120 |\n",
            "|526755-OBLTYTEN|Outros     |Residencial|0        |0       |0     |0            |0     |0        |0              |200        |Guaratiba               |Zona Oeste  |50000|0    |NULL|\n",
            "|593569-CJLMNFGW|Outros     |Comercial  |1        |0       |0     |0            |0     |2        |0              |25         |Freguesia (Jacarepaguá) |Zona Oeste  |50000|801  |211 |\n",
            "|989181-RYJOLMCU|Outros     |Comercial  |1        |0       |0     |0            |0     |0        |0              |23         |Penha                   |Zona Norte  |50000|230  |NULL|\n",
            "|145372-EZKAKSWM|Outros     |Comercial  |0        |0       |0     |0            |0     |0        |0              |60         |Ricardo de Albuquerque  |Zona Norte  |45000|NULL |NULL|\n",
            "|792086-NWNQTDYL|Apartamento|Residencial|1        |1       |0     |1            |0     |0        |0              |33         |Jacarezinho             |Zona Norte  |45336|0    |0   |\n",
            "|339622-MNZGLKTZ|Outros     |Residencial|0        |0       |0     |0            |0     |0        |0              |120        |Guaratiba               |Zona Oeste  |45000|0    |0   |\n",
            "|952338-SVULQMXR|Outros     |Residencial|0        |0       |0     |0            |0     |0        |0              |468        |Santa Cruz              |Zona Oeste  |45000|0    |0   |\n",
            "|570439-LDICQOXZ|Outros     |Residencial|0        |0       |0     |0            |0     |1        |0              |180        |Vargem Grande           |Zona Oeste  |50000|0    |0   |\n",
            "|684023-YTBNKLLO|Outros     |Residencial|0        |0       |0     |0            |0     |0        |0              |128        |Bangu                   |Zona Oeste  |50000|0    |0   |\n",
            "|629412-VKUMMAVR|Outros     |Residencial|0        |0       |0     |0            |0     |1        |0              |82         |Tanque                  |Zona Oeste  |45000|300  |0   |\n",
            "|041590-HMJIRKDX|Outros     |Comercial  |0        |0       |0     |1            |0     |0        |0              |5          |Centro                  |Zona Central|45000|0    |0   |\n",
            "|870098-XTRYJAGY|Outros     |Comercial  |1        |0       |0     |0            |0     |0        |0              |350        |Madureira               |Zona Norte  |50000|0    |1600|\n",
            "|951104-MACIAPIS|Apartamento|Residencial|2        |3       |20    |1            |1     |20       |19             |70         |Santo Cristo            |Zona Central|45000|350  |120 |\n",
            "|375665-GHMFEZXX|Apartamento|Residencial|2        |3       |20    |1            |1     |20       |19             |70         |Santo Cristo            |Zona Central|50000|350  |120 |\n",
            "|441711-LRTWHRUA|Apartamento|Residencial|1        |1       |0     |0            |0     |2        |0              |37         |Pedra de Guaratiba      |Zona Oeste  |50000|0    |0   |\n",
            "+---------------+-----------+-----------+---------+--------+------+-------------+------+---------+---------------+-----------+------------------------+------------+-----+-----+----+\n",
            "only showing top 20 rows\n",
            "\n"
          ]
        }
      ]
    },
    {
      "cell_type": "code",
      "source": [
        "dataset = dados\\\n",
        ".select('ident.customerID', 'listing.types.*', 'listing.features.*', 'listing.address.*', 'listing.prices.price', 'listing.prices.tax.*')\\\n",
        ".drop('city', 'location', 'totalAreas')"
      ],
      "metadata": {
        "id": "5lHQDt9yv-3d"
      },
      "execution_count": 13,
      "outputs": []
    },
    {
      "cell_type": "markdown",
      "source": [
        "## Tratamento dos dados"
      ],
      "metadata": {
        "id": "-9Zpe_7ExqPa"
      }
    },
    {
      "cell_type": "code",
      "source": [
        "dataset.printSchema()"
      ],
      "metadata": {
        "colab": {
          "base_uri": "https://localhost:8080/"
        },
        "id": "6j4jZubawk7y",
        "outputId": "b861f930-ab9d-4f80-8926-da81afd289fa"
      },
      "execution_count": 14,
      "outputs": [
        {
          "output_type": "stream",
          "name": "stdout",
          "text": [
            "root\n",
            " |-- customerID: string (nullable = true)\n",
            " |-- unit: string (nullable = true)\n",
            " |-- usage: string (nullable = true)\n",
            " |-- bathrooms: long (nullable = true)\n",
            " |-- bedrooms: long (nullable = true)\n",
            " |-- floors: long (nullable = true)\n",
            " |-- parkingSpaces: long (nullable = true)\n",
            " |-- suites: long (nullable = true)\n",
            " |-- unitFloor: long (nullable = true)\n",
            " |-- unitsOnTheFloor: long (nullable = true)\n",
            " |-- usableAreas: string (nullable = true)\n",
            " |-- neighborhood: string (nullable = true)\n",
            " |-- zone: string (nullable = true)\n",
            " |-- price: string (nullable = true)\n",
            " |-- condo: string (nullable = true)\n",
            " |-- iptu: string (nullable = true)\n",
            "\n"
          ]
        }
      ]
    },
    {
      "cell_type": "code",
      "source": [
        "dataset = dataset\\\n",
        ".withColumn('usableAreas', dataset['usableAreas'].cast(IntegerType()))\\\n",
        ".withColumn('price', dataset['price'].cast(DoubleType()))\\\n",
        ".withColumn('condo', dataset['condo'].cast(DoubleType()))\\\n",
        ".withColumn('iptu', dataset['iptu'].cast(DoubleType()))"
      ],
      "metadata": {
        "id": "MqqBpuAJxuzS"
      },
      "execution_count": 15,
      "outputs": []
    },
    {
      "cell_type": "code",
      "source": [
        "dataset.show()"
      ],
      "metadata": {
        "colab": {
          "base_uri": "https://localhost:8080/"
        },
        "id": "g1Cu2m9qyRz6",
        "outputId": "2ebb06e4-c657-4cdb-f086-1ae26930159c"
      },
      "execution_count": 16,
      "outputs": [
        {
          "output_type": "stream",
          "name": "stdout",
          "text": [
            "+---------------+-----------+-----------+---------+--------+------+-------------+------+---------+---------------+-----------+--------------------+------------+-------+-----+------+\n",
            "|     customerID|       unit|      usage|bathrooms|bedrooms|floors|parkingSpaces|suites|unitFloor|unitsOnTheFloor|usableAreas|        neighborhood|        zone|  price|condo|  iptu|\n",
            "+---------------+-----------+-----------+---------+--------+------+-------------+------+---------+---------------+-----------+--------------------+------------+-------+-----+------+\n",
            "|775564-BOJSMVON|     Outros|Residencial|        0|       0|     0|            1|     0|        0|              0|         62|             Taquara|  Zona Oeste|45000.0|150.0|   0.0|\n",
            "|660895-AUENKNYY|Apartamento|Residencial|        1|       2|     0|            1|     0|        0|              0|         44|          Santíssimo|  Zona Oeste|45000.0|120.0|   0.0|\n",
            "|751522-JESYFEQL|     Outros|Residencial|        0|       0|     0|            0|     0|        0|              0|        132|  Pedra de Guaratiba|  Zona Oeste|50000.0|100.0|   0.0|\n",
            "|714052-GAAEWYKS|     Outros|  Comercial|        1|       0|     0|            0|     0|        3|              0|         32|           Cascadura|  Zona Norte|45000.0|468.0| 346.0|\n",
            "|568886-ZIBFOMCC|Apartamento|Residencial|        2|       3|     3|            1|     1|        2|              4|         60|Recreio dos Bande...|  Zona Oeste|50000.0|400.0| 120.0|\n",
            "|526755-OBLTYTEN|     Outros|Residencial|        0|       0|     0|            0|     0|        0|              0|        200|           Guaratiba|  Zona Oeste|50000.0|  0.0|  NULL|\n",
            "|593569-CJLMNFGW|     Outros|  Comercial|        1|       0|     0|            0|     0|        2|              0|         25|Freguesia (Jacare...|  Zona Oeste|50000.0|801.0| 211.0|\n",
            "|989181-RYJOLMCU|     Outros|  Comercial|        1|       0|     0|            0|     0|        0|              0|         23|               Penha|  Zona Norte|50000.0|230.0|  NULL|\n",
            "|145372-EZKAKSWM|     Outros|  Comercial|        0|       0|     0|            0|     0|        0|              0|         60|Ricardo de Albuqu...|  Zona Norte|45000.0| NULL|  NULL|\n",
            "|792086-NWNQTDYL|Apartamento|Residencial|        1|       1|     0|            1|     0|        0|              0|         33|         Jacarezinho|  Zona Norte|45336.0|  0.0|   0.0|\n",
            "|339622-MNZGLKTZ|     Outros|Residencial|        0|       0|     0|            0|     0|        0|              0|        120|           Guaratiba|  Zona Oeste|45000.0|  0.0|   0.0|\n",
            "|952338-SVULQMXR|     Outros|Residencial|        0|       0|     0|            0|     0|        0|              0|        468|          Santa Cruz|  Zona Oeste|45000.0|  0.0|   0.0|\n",
            "|570439-LDICQOXZ|     Outros|Residencial|        0|       0|     0|            0|     0|        1|              0|        180|       Vargem Grande|  Zona Oeste|50000.0|  0.0|   0.0|\n",
            "|684023-YTBNKLLO|     Outros|Residencial|        0|       0|     0|            0|     0|        0|              0|        128|               Bangu|  Zona Oeste|50000.0|  0.0|   0.0|\n",
            "|629412-VKUMMAVR|     Outros|Residencial|        0|       0|     0|            0|     0|        1|              0|         82|              Tanque|  Zona Oeste|45000.0|300.0|   0.0|\n",
            "|041590-HMJIRKDX|     Outros|  Comercial|        0|       0|     0|            1|     0|        0|              0|          5|              Centro|Zona Central|45000.0|  0.0|   0.0|\n",
            "|870098-XTRYJAGY|     Outros|  Comercial|        1|       0|     0|            0|     0|        0|              0|        350|           Madureira|  Zona Norte|50000.0|  0.0|1600.0|\n",
            "|951104-MACIAPIS|Apartamento|Residencial|        2|       3|    20|            1|     1|       20|             19|         70|        Santo Cristo|Zona Central|45000.0|350.0| 120.0|\n",
            "|375665-GHMFEZXX|Apartamento|Residencial|        2|       3|    20|            1|     1|       20|             19|         70|        Santo Cristo|Zona Central|50000.0|350.0| 120.0|\n",
            "|441711-LRTWHRUA|Apartamento|Residencial|        1|       1|     0|            0|     0|        2|              0|         37|  Pedra de Guaratiba|  Zona Oeste|50000.0|  0.0|   0.0|\n",
            "+---------------+-----------+-----------+---------+--------+------+-------------+------+---------+---------------+-----------+--------------------+------------+-------+-----+------+\n",
            "only showing top 20 rows\n",
            "\n"
          ]
        }
      ]
    },
    {
      "cell_type": "code",
      "source": [
        "dataset\\\n",
        ".select('usage')\\\n",
        ".groupBy('usage')\\\n",
        ".count()\\\n",
        ".show()"
      ],
      "metadata": {
        "colab": {
          "base_uri": "https://localhost:8080/"
        },
        "id": "bnXbU60J0FD5",
        "outputId": "4344d785-3c65-4f61-aef3-5569fe5ddc45"
      },
      "execution_count": 17,
      "outputs": [
        {
          "output_type": "stream",
          "name": "stdout",
          "text": [
            "+-----------+-----+\n",
            "|      usage|count|\n",
            "+-----------+-----+\n",
            "|  Comercial| 4019|\n",
            "|Residencial|69596|\n",
            "+-----------+-----+\n",
            "\n"
          ]
        }
      ]
    },
    {
      "cell_type": "code",
      "source": [
        "dataset = dataset\\\n",
        ".select('*')\\\n",
        ".where('usage == \"Residencial\"')"
      ],
      "metadata": {
        "id": "aK7KxdKHKIiD"
      },
      "execution_count": 18,
      "outputs": []
    },
    {
      "cell_type": "code",
      "source": [
        "dataset\\\n",
        ".select('unit')\\\n",
        ".groupBy('unit')\\\n",
        ".count()\\\n",
        ".show()"
      ],
      "metadata": {
        "colab": {
          "base_uri": "https://localhost:8080/"
        },
        "id": "8xdKT9EaKdkI",
        "outputId": "165b2249-5e06-40fb-e52d-aee01a3e1f93"
      },
      "execution_count": 19,
      "outputs": [
        {
          "output_type": "stream",
          "name": "stdout",
          "text": [
            "+-----------+-----+\n",
            "|       unit|count|\n",
            "+-----------+-----+\n",
            "|     Outros| 1190|\n",
            "|Apartamento|59106|\n",
            "|       Casa| 9300|\n",
            "+-----------+-----+\n",
            "\n"
          ]
        }
      ]
    },
    {
      "cell_type": "code",
      "source": [
        "dataset\\\n",
        ".select('zone')\\\n",
        ".groupBy('zone')\\\n",
        ".count()\\\n",
        ".show()"
      ],
      "metadata": {
        "colab": {
          "base_uri": "https://localhost:8080/"
        },
        "id": "5Iu1n8KaKjMt",
        "outputId": "6cde45be-b132-488b-a241-910887425db3"
      },
      "execution_count": 20,
      "outputs": [
        {
          "output_type": "stream",
          "name": "stdout",
          "text": [
            "+------------+-----+\n",
            "|        zone|count|\n",
            "+------------+-----+\n",
            "|  Zona Norte|14379|\n",
            "|  Zona Oeste|35523|\n",
            "|Zona Central| 1002|\n",
            "|    Zona Sul|18535|\n",
            "|            |  157|\n",
            "+------------+-----+\n",
            "\n"
          ]
        }
      ]
    },
    {
      "cell_type": "code",
      "source": [
        "# contagem de valores nulos\n",
        "dataset\\\n",
        ".select([f.count(f.when(f.isnan(c) | f.isnull(c), True)).alias(c) for c in dataset.columns])\\\n",
        ".show()"
      ],
      "metadata": {
        "colab": {
          "base_uri": "https://localhost:8080/"
        },
        "id": "2axBwLR1Kt7P",
        "outputId": "2a7c669d-97da-4ff4-8114-d8e1a0cbc0f1"
      },
      "execution_count": 21,
      "outputs": [
        {
          "output_type": "stream",
          "name": "stdout",
          "text": [
            "+----------+----+-----+---------+--------+------+-------------+------+---------+---------------+-----------+------------+----+-----+-----+----+\n",
            "|customerID|unit|usage|bathrooms|bedrooms|floors|parkingSpaces|suites|unitFloor|unitsOnTheFloor|usableAreas|neighborhood|zone|price|condo|iptu|\n",
            "+----------+----+-----+---------+--------+------+-------------+------+---------+---------------+-----------+------------+----+-----+-----+----+\n",
            "|         0|   0|    0|        0|       0|     0|            0|     0|        0|              0|          0|           0|   0|    0| 6061|8726|\n",
            "+----------+----+-----+---------+--------+------+-------------+------+---------+---------------+-----------+------------+----+-----+-----+----+\n",
            "\n"
          ]
        }
      ]
    },
    {
      "cell_type": "code",
      "source": [
        "dataset\\\n",
        ".select('*')\\\n",
        ".na\\\n",
        ".fill(0)\\\n",
        ".show()"
      ],
      "metadata": {
        "colab": {
          "base_uri": "https://localhost:8080/"
        },
        "id": "2FFfGj2SLFxv",
        "outputId": "b8b03763-21da-4a04-c829-c1c16797de1b"
      },
      "execution_count": 22,
      "outputs": [
        {
          "output_type": "stream",
          "name": "stdout",
          "text": [
            "+---------------+-----------+-----------+---------+--------+------+-------------+------+---------+---------------+-----------+--------------------+------------+-------+-----+-----+\n",
            "|     customerID|       unit|      usage|bathrooms|bedrooms|floors|parkingSpaces|suites|unitFloor|unitsOnTheFloor|usableAreas|        neighborhood|        zone|  price|condo| iptu|\n",
            "+---------------+-----------+-----------+---------+--------+------+-------------+------+---------+---------------+-----------+--------------------+------------+-------+-----+-----+\n",
            "|775564-BOJSMVON|     Outros|Residencial|        0|       0|     0|            1|     0|        0|              0|         62|             Taquara|  Zona Oeste|45000.0|150.0|  0.0|\n",
            "|660895-AUENKNYY|Apartamento|Residencial|        1|       2|     0|            1|     0|        0|              0|         44|          Santíssimo|  Zona Oeste|45000.0|120.0|  0.0|\n",
            "|751522-JESYFEQL|     Outros|Residencial|        0|       0|     0|            0|     0|        0|              0|        132|  Pedra de Guaratiba|  Zona Oeste|50000.0|100.0|  0.0|\n",
            "|568886-ZIBFOMCC|Apartamento|Residencial|        2|       3|     3|            1|     1|        2|              4|         60|Recreio dos Bande...|  Zona Oeste|50000.0|400.0|120.0|\n",
            "|526755-OBLTYTEN|     Outros|Residencial|        0|       0|     0|            0|     0|        0|              0|        200|           Guaratiba|  Zona Oeste|50000.0|  0.0|  0.0|\n",
            "|792086-NWNQTDYL|Apartamento|Residencial|        1|       1|     0|            1|     0|        0|              0|         33|         Jacarezinho|  Zona Norte|45336.0|  0.0|  0.0|\n",
            "|339622-MNZGLKTZ|     Outros|Residencial|        0|       0|     0|            0|     0|        0|              0|        120|           Guaratiba|  Zona Oeste|45000.0|  0.0|  0.0|\n",
            "|952338-SVULQMXR|     Outros|Residencial|        0|       0|     0|            0|     0|        0|              0|        468|          Santa Cruz|  Zona Oeste|45000.0|  0.0|  0.0|\n",
            "|570439-LDICQOXZ|     Outros|Residencial|        0|       0|     0|            0|     0|        1|              0|        180|       Vargem Grande|  Zona Oeste|50000.0|  0.0|  0.0|\n",
            "|684023-YTBNKLLO|     Outros|Residencial|        0|       0|     0|            0|     0|        0|              0|        128|               Bangu|  Zona Oeste|50000.0|  0.0|  0.0|\n",
            "|629412-VKUMMAVR|     Outros|Residencial|        0|       0|     0|            0|     0|        1|              0|         82|              Tanque|  Zona Oeste|45000.0|300.0|  0.0|\n",
            "|951104-MACIAPIS|Apartamento|Residencial|        2|       3|    20|            1|     1|       20|             19|         70|        Santo Cristo|Zona Central|45000.0|350.0|120.0|\n",
            "|375665-GHMFEZXX|Apartamento|Residencial|        2|       3|    20|            1|     1|       20|             19|         70|        Santo Cristo|Zona Central|50000.0|350.0|120.0|\n",
            "|441711-LRTWHRUA|Apartamento|Residencial|        1|       1|     0|            0|     0|        2|              0|         37|  Pedra de Guaratiba|  Zona Oeste|50000.0|  0.0|  0.0|\n",
            "|221946-ENAQETGD|     Outros|Residencial|        0|       0|     0|            0|     0|        0|              0|        120|           Guaratiba|  Zona Oeste|45020.0|  0.0|  0.0|\n",
            "|023787-PTASXXTL|     Outros|Residencial|        0|       0|     0|            0|     0|        0|              0|        120|           Guaratiba|  Zona Oeste|45040.0|  0.0|  0.0|\n",
            "|385687-SWOBLUWG|     Outros|Residencial|        0|       0|     0|            0|     0|        0|              0|        150|          Santa Cruz|  Zona Oeste|45000.0|  0.0|  0.0|\n",
            "|037953-VZOABKON|Apartamento|Residencial|        1|       2|     0|            1|     0|        0|              0|         30|         Coelho Neto|  Zona Norte|45000.0|  0.0|  0.0|\n",
            "|913561-GIAMXOYU|     Outros|Residencial|        0|       0|     0|            0|     0|        0|              0|        128|           Guaratiba|  Zona Oeste|45000.0|  0.0|  0.0|\n",
            "|511928-EYKXPKBU|     Outros|Residencial|        0|       0|     0|            0|     0|        0|              0|        120|           Guaratiba|  Zona Oeste|45070.0|  0.0|  0.0|\n",
            "+---------------+-----------+-----------+---------+--------+------+-------------+------+---------+---------------+-----------+--------------------+------------+-------+-----+-----+\n",
            "only showing top 20 rows\n",
            "\n"
          ]
        }
      ]
    },
    {
      "cell_type": "code",
      "source": [
        "dataset = dataset\\\n",
        ".select('*')\\\n",
        ".na\\\n",
        ".fill(0)"
      ],
      "metadata": {
        "id": "PtTQTghCMCaA"
      },
      "execution_count": 23,
      "outputs": []
    },
    {
      "cell_type": "code",
      "source": [
        "# contagem de valores nulos\n",
        "dataset\\\n",
        ".select([f.count(f.when(f.isnan(c) | f.isnull(c), True)).alias(c) for c in dataset.columns])\\\n",
        ".show()"
      ],
      "metadata": {
        "colab": {
          "base_uri": "https://localhost:8080/"
        },
        "id": "UEJjs3IjMgU-",
        "outputId": "5786c81a-2d46-475d-dd49-3e8e47918da6"
      },
      "execution_count": 24,
      "outputs": [
        {
          "output_type": "stream",
          "name": "stdout",
          "text": [
            "+----------+----+-----+---------+--------+------+-------------+------+---------+---------------+-----------+------------+----+-----+-----+----+\n",
            "|customerID|unit|usage|bathrooms|bedrooms|floors|parkingSpaces|suites|unitFloor|unitsOnTheFloor|usableAreas|neighborhood|zone|price|condo|iptu|\n",
            "+----------+----+-----+---------+--------+------+-------------+------+---------+---------------+-----------+------------+----+-----+-----+----+\n",
            "|         0|   0|    0|        0|       0|     0|            0|     0|        0|              0|          0|           0|   0|    0|    0|   0|\n",
            "+----------+----+-----+---------+--------+------+-------------+------+---------+---------------+-----------+------------+----+-----+-----+----+\n",
            "\n"
          ]
        }
      ]
    },
    {
      "cell_type": "code",
      "source": [
        "dataset\\\n",
        ".select('zone')\\\n",
        ".groupBy('zone')\\\n",
        ".count()\\\n",
        ".show()"
      ],
      "metadata": {
        "colab": {
          "base_uri": "https://localhost:8080/"
        },
        "id": "294ZaOWcMm6f",
        "outputId": "d100bb3f-c414-47fb-c9d2-065b82ca84fc"
      },
      "execution_count": 25,
      "outputs": [
        {
          "output_type": "stream",
          "name": "stdout",
          "text": [
            "+------------+-----+\n",
            "|        zone|count|\n",
            "+------------+-----+\n",
            "|  Zona Norte|14379|\n",
            "|  Zona Oeste|35523|\n",
            "|Zona Central| 1002|\n",
            "|    Zona Sul|18535|\n",
            "|            |  157|\n",
            "+------------+-----+\n",
            "\n"
          ]
        }
      ]
    },
    {
      "cell_type": "code",
      "source": [
        "dataset = dataset\\\n",
        ".where(f.col('zone') != '')"
      ],
      "metadata": {
        "id": "krPZnUi8MwSo"
      },
      "execution_count": 26,
      "outputs": []
    },
    {
      "cell_type": "markdown",
      "source": [
        "# Regressão Linear"
      ],
      "metadata": {
        "id": "3FTLa0kpSOTL"
      }
    },
    {
      "cell_type": "markdown",
      "source": [
        "Ciclo de ML\n",
        "\n",
        "- Seleção de features\n",
        "- Separação treino e teste\n",
        "- Criação do modelo\n",
        "- Ajuste do modelo\n",
        "- Gerando previsões\n",
        "- Gerando métricas\n",
        "- Avaliando métricas\n",
        "- Melhorando o modelo"
      ],
      "metadata": {
        "id": "wN9ORk5wSX0W"
      }
    },
    {
      "cell_type": "markdown",
      "source": [
        "## Variáveis dummy"
      ],
      "metadata": {
        "id": "I44BxGm3TWOl"
      }
    },
    {
      "cell_type": "code",
      "source": [
        "dataset\\\n",
        ".groupBy('customerID')\\\n",
        ".pivot('unit')\\\n",
        ".agg(f.lit(1))\\\n",
        ".na\\\n",
        ".fill(0)\\\n",
        ".show()"
      ],
      "metadata": {
        "colab": {
          "base_uri": "https://localhost:8080/"
        },
        "id": "oezoto8bM-E9",
        "outputId": "24cc0055-0852-473b-be64-26f0abef2fcf"
      },
      "execution_count": 27,
      "outputs": [
        {
          "output_type": "stream",
          "name": "stdout",
          "text": [
            "+---------------+-----------+----+------+\n",
            "|     customerID|Apartamento|Casa|Outros|\n",
            "+---------------+-----------+----+------+\n",
            "|062130-QKYMWGMV|          1|   0|     0|\n",
            "|630945-AEEUPRXI|          0|   1|     0|\n",
            "|994985-OZQNHQKH|          1|   0|     0|\n",
            "|494674-JWXRZIBM|          1|   0|     0|\n",
            "|458844-UJCRFSRI|          1|   0|     0|\n",
            "|155284-BRCDAOIQ|          1|   0|     0|\n",
            "|396742-DUXBHLRU|          1|   0|     0|\n",
            "|916072-ZJXARAXO|          1|   0|     0|\n",
            "|943843-BVTWWHRQ|          1|   0|     0|\n",
            "|193126-MTNIIFQN|          1|   0|     0|\n",
            "|319762-UXTTQYFS|          1|   0|     0|\n",
            "|931151-GZCTKADB|          1|   0|     0|\n",
            "|103840-OFKPFEZJ|          0|   1|     0|\n",
            "|176885-NNKZRQGM|          0|   1|     0|\n",
            "|926638-PBYRAZYR|          1|   0|     0|\n",
            "|744421-IZJWISWB|          1|   0|     0|\n",
            "|530012-TYGLQMER|          1|   0|     0|\n",
            "|209407-GTEUOVKR|          1|   0|     0|\n",
            "|289667-ZPHGFHJH|          1|   0|     0|\n",
            "|859388-EYTPMKER|          1|   0|     0|\n",
            "+---------------+-----------+----+------+\n",
            "only showing top 20 rows\n",
            "\n"
          ]
        }
      ]
    },
    {
      "cell_type": "code",
      "source": [
        "unit = dataset\\\n",
        ".groupBy('customerID')\\\n",
        ".pivot('unit')\\\n",
        ".agg(f.lit(1))\\\n",
        ".na\\\n",
        ".fill(0)"
      ],
      "metadata": {
        "id": "fpsi2eFVTmWI"
      },
      "execution_count": 28,
      "outputs": []
    },
    {
      "cell_type": "code",
      "source": [
        "zone = dataset\\\n",
        ".groupBy('customerID')\\\n",
        ".pivot('zone')\\\n",
        ".agg(f.lit(1))\\\n",
        ".na\\\n",
        ".fill(0)"
      ],
      "metadata": {
        "id": "AWPSShvnUe9Z"
      },
      "execution_count": 29,
      "outputs": []
    },
    {
      "cell_type": "code",
      "source": [
        "# juntar tudo no dataset\n",
        "\n",
        "dataset = dataset\\\n",
        ".join(unit, 'customerID', how = 'inner')\\\n",
        ".join(zone, 'customerID', how = 'inner')"
      ],
      "metadata": {
        "id": "1eIDBsL7UqRg"
      },
      "execution_count": 30,
      "outputs": []
    },
    {
      "cell_type": "code",
      "source": [
        "dataset.show()"
      ],
      "metadata": {
        "colab": {
          "base_uri": "https://localhost:8080/"
        },
        "id": "LqbCp-VVVEJ9",
        "outputId": "1bce594d-f919-480f-90bd-d72569b7b9c6"
      },
      "execution_count": 31,
      "outputs": [
        {
          "output_type": "stream",
          "name": "stdout",
          "text": [
            "+---------------+-----------+-----------+---------+--------+------+-------------+------+---------+---------------+-----------+--------------------+------------+-------+-----+-----+-----------+----+------+------------+----------+----------+--------+\n",
            "|     customerID|       unit|      usage|bathrooms|bedrooms|floors|parkingSpaces|suites|unitFloor|unitsOnTheFloor|usableAreas|        neighborhood|        zone|  price|condo| iptu|Apartamento|Casa|Outros|Zona Central|Zona Norte|Zona Oeste|Zona Sul|\n",
            "+---------------+-----------+-----------+---------+--------+------+-------------+------+---------+---------------+-----------+--------------------+------------+-------+-----+-----+-----------+----+------+------------+----------+----------+--------+\n",
            "|775564-BOJSMVON|     Outros|Residencial|        0|       0|     0|            1|     0|        0|              0|         62|             Taquara|  Zona Oeste|45000.0|150.0|  0.0|          0|   0|     1|           0|         0|         1|       0|\n",
            "|660895-AUENKNYY|Apartamento|Residencial|        1|       2|     0|            1|     0|        0|              0|         44|          Santíssimo|  Zona Oeste|45000.0|120.0|  0.0|          1|   0|     0|           0|         0|         1|       0|\n",
            "|751522-JESYFEQL|     Outros|Residencial|        0|       0|     0|            0|     0|        0|              0|        132|  Pedra de Guaratiba|  Zona Oeste|50000.0|100.0|  0.0|          0|   0|     1|           0|         0|         1|       0|\n",
            "|568886-ZIBFOMCC|Apartamento|Residencial|        2|       3|     3|            1|     1|        2|              4|         60|Recreio dos Bande...|  Zona Oeste|50000.0|400.0|120.0|          1|   0|     0|           0|         0|         1|       0|\n",
            "|526755-OBLTYTEN|     Outros|Residencial|        0|       0|     0|            0|     0|        0|              0|        200|           Guaratiba|  Zona Oeste|50000.0|  0.0|  0.0|          0|   0|     1|           0|         0|         1|       0|\n",
            "|792086-NWNQTDYL|Apartamento|Residencial|        1|       1|     0|            1|     0|        0|              0|         33|         Jacarezinho|  Zona Norte|45336.0|  0.0|  0.0|          1|   0|     0|           0|         1|         0|       0|\n",
            "|339622-MNZGLKTZ|     Outros|Residencial|        0|       0|     0|            0|     0|        0|              0|        120|           Guaratiba|  Zona Oeste|45000.0|  0.0|  0.0|          0|   0|     1|           0|         0|         1|       0|\n",
            "|952338-SVULQMXR|     Outros|Residencial|        0|       0|     0|            0|     0|        0|              0|        468|          Santa Cruz|  Zona Oeste|45000.0|  0.0|  0.0|          0|   0|     1|           0|         0|         1|       0|\n",
            "|570439-LDICQOXZ|     Outros|Residencial|        0|       0|     0|            0|     0|        1|              0|        180|       Vargem Grande|  Zona Oeste|50000.0|  0.0|  0.0|          0|   0|     1|           0|         0|         1|       0|\n",
            "|684023-YTBNKLLO|     Outros|Residencial|        0|       0|     0|            0|     0|        0|              0|        128|               Bangu|  Zona Oeste|50000.0|  0.0|  0.0|          0|   0|     1|           0|         0|         1|       0|\n",
            "|629412-VKUMMAVR|     Outros|Residencial|        0|       0|     0|            0|     0|        1|              0|         82|              Tanque|  Zona Oeste|45000.0|300.0|  0.0|          0|   0|     1|           0|         0|         1|       0|\n",
            "|951104-MACIAPIS|Apartamento|Residencial|        2|       3|    20|            1|     1|       20|             19|         70|        Santo Cristo|Zona Central|45000.0|350.0|120.0|          1|   0|     0|           1|         0|         0|       0|\n",
            "|375665-GHMFEZXX|Apartamento|Residencial|        2|       3|    20|            1|     1|       20|             19|         70|        Santo Cristo|Zona Central|50000.0|350.0|120.0|          1|   0|     0|           1|         0|         0|       0|\n",
            "|441711-LRTWHRUA|Apartamento|Residencial|        1|       1|     0|            0|     0|        2|              0|         37|  Pedra de Guaratiba|  Zona Oeste|50000.0|  0.0|  0.0|          1|   0|     0|           0|         0|         1|       0|\n",
            "|221946-ENAQETGD|     Outros|Residencial|        0|       0|     0|            0|     0|        0|              0|        120|           Guaratiba|  Zona Oeste|45020.0|  0.0|  0.0|          0|   0|     1|           0|         0|         1|       0|\n",
            "|023787-PTASXXTL|     Outros|Residencial|        0|       0|     0|            0|     0|        0|              0|        120|           Guaratiba|  Zona Oeste|45040.0|  0.0|  0.0|          0|   0|     1|           0|         0|         1|       0|\n",
            "|385687-SWOBLUWG|     Outros|Residencial|        0|       0|     0|            0|     0|        0|              0|        150|          Santa Cruz|  Zona Oeste|45000.0|  0.0|  0.0|          0|   0|     1|           0|         0|         1|       0|\n",
            "|037953-VZOABKON|Apartamento|Residencial|        1|       2|     0|            1|     0|        0|              0|         30|         Coelho Neto|  Zona Norte|45000.0|  0.0|  0.0|          1|   0|     0|           0|         1|         0|       0|\n",
            "|913561-GIAMXOYU|     Outros|Residencial|        0|       0|     0|            0|     0|        0|              0|        128|           Guaratiba|  Zona Oeste|45000.0|  0.0|  0.0|          0|   0|     1|           0|         0|         1|       0|\n",
            "|511928-EYKXPKBU|     Outros|Residencial|        0|       0|     0|            0|     0|        0|              0|        120|           Guaratiba|  Zona Oeste|45070.0|  0.0|  0.0|          0|   0|     1|           0|         0|         1|       0|\n",
            "+---------------+-----------+-----------+---------+--------+------+-------------+------+---------+---------------+-----------+--------------------+------------+-------+-----+-----+-----------+----+------+------------+----------+----------+--------+\n",
            "only showing top 20 rows\n",
            "\n"
          ]
        }
      ]
    },
    {
      "cell_type": "markdown",
      "source": [
        "## Modelo"
      ],
      "metadata": {
        "id": "1auWTlWEWprN"
      }
    },
    {
      "cell_type": "code",
      "source": [
        "# o spark espera que o que a gente quer prever esteja com o nome \"label\"\n",
        "dataset = dataset.withColumnRenamed('price', 'label')"
      ],
      "metadata": {
        "id": "YnaE4uJDVFh8"
      },
      "execution_count": 32,
      "outputs": []
    },
    {
      "cell_type": "code",
      "source": [
        "X = [\n",
        "    'bathrooms',\n",
        "    'bedrooms',\n",
        "    'floors',\n",
        "    'parkingSpaces',\n",
        "    'suites',\n",
        "    'unitFloor',\n",
        "    'unitsOnTheFloor',\n",
        "    'usableAreas',\n",
        "    'condo',\n",
        "    'iptu',\n",
        "    'Apartamento',\n",
        "    'Casa',\n",
        "    'Outros',\n",
        "    'Zona Central',\n",
        "    'Zona Norte',\n",
        "    'Zona Oeste',\n",
        "    'Zona Sul'\n",
        "]"
      ],
      "metadata": {
        "id": "j-Gybxf1WvW2"
      },
      "execution_count": 33,
      "outputs": []
    },
    {
      "cell_type": "code",
      "source": [
        "# A feature transformer that merges multiple columns into a vector column\n",
        "assembler = VectorAssembler(inputCols = X, outputCol = 'features')"
      ],
      "metadata": {
        "id": "AHm8ad--XvHv"
      },
      "execution_count": 34,
      "outputs": []
    },
    {
      "cell_type": "code",
      "source": [
        "dataset.show()"
      ],
      "metadata": {
        "colab": {
          "base_uri": "https://localhost:8080/"
        },
        "id": "CUjsNEl6YFvP",
        "outputId": "0aa45a2f-18a5-49ec-d096-564659f24d51"
      },
      "execution_count": 35,
      "outputs": [
        {
          "output_type": "stream",
          "name": "stdout",
          "text": [
            "+---------------+-----------+-----------+---------+--------+------+-------------+------+---------+---------------+-----------+--------------------+------------+-------+-----+-----+-----------+----+------+------------+----------+----------+--------+\n",
            "|     customerID|       unit|      usage|bathrooms|bedrooms|floors|parkingSpaces|suites|unitFloor|unitsOnTheFloor|usableAreas|        neighborhood|        zone|  label|condo| iptu|Apartamento|Casa|Outros|Zona Central|Zona Norte|Zona Oeste|Zona Sul|\n",
            "+---------------+-----------+-----------+---------+--------+------+-------------+------+---------+---------------+-----------+--------------------+------------+-------+-----+-----+-----------+----+------+------------+----------+----------+--------+\n",
            "|775564-BOJSMVON|     Outros|Residencial|        0|       0|     0|            1|     0|        0|              0|         62|             Taquara|  Zona Oeste|45000.0|150.0|  0.0|          0|   0|     1|           0|         0|         1|       0|\n",
            "|660895-AUENKNYY|Apartamento|Residencial|        1|       2|     0|            1|     0|        0|              0|         44|          Santíssimo|  Zona Oeste|45000.0|120.0|  0.0|          1|   0|     0|           0|         0|         1|       0|\n",
            "|751522-JESYFEQL|     Outros|Residencial|        0|       0|     0|            0|     0|        0|              0|        132|  Pedra de Guaratiba|  Zona Oeste|50000.0|100.0|  0.0|          0|   0|     1|           0|         0|         1|       0|\n",
            "|568886-ZIBFOMCC|Apartamento|Residencial|        2|       3|     3|            1|     1|        2|              4|         60|Recreio dos Bande...|  Zona Oeste|50000.0|400.0|120.0|          1|   0|     0|           0|         0|         1|       0|\n",
            "|526755-OBLTYTEN|     Outros|Residencial|        0|       0|     0|            0|     0|        0|              0|        200|           Guaratiba|  Zona Oeste|50000.0|  0.0|  0.0|          0|   0|     1|           0|         0|         1|       0|\n",
            "|792086-NWNQTDYL|Apartamento|Residencial|        1|       1|     0|            1|     0|        0|              0|         33|         Jacarezinho|  Zona Norte|45336.0|  0.0|  0.0|          1|   0|     0|           0|         1|         0|       0|\n",
            "|339622-MNZGLKTZ|     Outros|Residencial|        0|       0|     0|            0|     0|        0|              0|        120|           Guaratiba|  Zona Oeste|45000.0|  0.0|  0.0|          0|   0|     1|           0|         0|         1|       0|\n",
            "|952338-SVULQMXR|     Outros|Residencial|        0|       0|     0|            0|     0|        0|              0|        468|          Santa Cruz|  Zona Oeste|45000.0|  0.0|  0.0|          0|   0|     1|           0|         0|         1|       0|\n",
            "|570439-LDICQOXZ|     Outros|Residencial|        0|       0|     0|            0|     0|        1|              0|        180|       Vargem Grande|  Zona Oeste|50000.0|  0.0|  0.0|          0|   0|     1|           0|         0|         1|       0|\n",
            "|684023-YTBNKLLO|     Outros|Residencial|        0|       0|     0|            0|     0|        0|              0|        128|               Bangu|  Zona Oeste|50000.0|  0.0|  0.0|          0|   0|     1|           0|         0|         1|       0|\n",
            "|629412-VKUMMAVR|     Outros|Residencial|        0|       0|     0|            0|     0|        1|              0|         82|              Tanque|  Zona Oeste|45000.0|300.0|  0.0|          0|   0|     1|           0|         0|         1|       0|\n",
            "|951104-MACIAPIS|Apartamento|Residencial|        2|       3|    20|            1|     1|       20|             19|         70|        Santo Cristo|Zona Central|45000.0|350.0|120.0|          1|   0|     0|           1|         0|         0|       0|\n",
            "|375665-GHMFEZXX|Apartamento|Residencial|        2|       3|    20|            1|     1|       20|             19|         70|        Santo Cristo|Zona Central|50000.0|350.0|120.0|          1|   0|     0|           1|         0|         0|       0|\n",
            "|441711-LRTWHRUA|Apartamento|Residencial|        1|       1|     0|            0|     0|        2|              0|         37|  Pedra de Guaratiba|  Zona Oeste|50000.0|  0.0|  0.0|          1|   0|     0|           0|         0|         1|       0|\n",
            "|221946-ENAQETGD|     Outros|Residencial|        0|       0|     0|            0|     0|        0|              0|        120|           Guaratiba|  Zona Oeste|45020.0|  0.0|  0.0|          0|   0|     1|           0|         0|         1|       0|\n",
            "|023787-PTASXXTL|     Outros|Residencial|        0|       0|     0|            0|     0|        0|              0|        120|           Guaratiba|  Zona Oeste|45040.0|  0.0|  0.0|          0|   0|     1|           0|         0|         1|       0|\n",
            "|385687-SWOBLUWG|     Outros|Residencial|        0|       0|     0|            0|     0|        0|              0|        150|          Santa Cruz|  Zona Oeste|45000.0|  0.0|  0.0|          0|   0|     1|           0|         0|         1|       0|\n",
            "|037953-VZOABKON|Apartamento|Residencial|        1|       2|     0|            1|     0|        0|              0|         30|         Coelho Neto|  Zona Norte|45000.0|  0.0|  0.0|          1|   0|     0|           0|         1|         0|       0|\n",
            "|913561-GIAMXOYU|     Outros|Residencial|        0|       0|     0|            0|     0|        0|              0|        128|           Guaratiba|  Zona Oeste|45000.0|  0.0|  0.0|          0|   0|     1|           0|         0|         1|       0|\n",
            "|511928-EYKXPKBU|     Outros|Residencial|        0|       0|     0|            0|     0|        0|              0|        120|           Guaratiba|  Zona Oeste|45070.0|  0.0|  0.0|          0|   0|     1|           0|         0|         1|       0|\n",
            "+---------------+-----------+-----------+---------+--------+------+-------------+------+---------+---------------+-----------+--------------------+------------+-------+-----+-----+-----------+----+------+------------+----------+----------+--------+\n",
            "only showing top 20 rows\n",
            "\n"
          ]
        }
      ]
    },
    {
      "cell_type": "code",
      "source": [
        "dataset_prep = assembler.transform(dataset).select('features', 'label')"
      ],
      "metadata": {
        "id": "WAHRh0ZyYHbB"
      },
      "execution_count": 36,
      "outputs": []
    },
    {
      "cell_type": "code",
      "source": [
        "dataset_prep.show(10, truncate = False)"
      ],
      "metadata": {
        "colab": {
          "base_uri": "https://localhost:8080/"
        },
        "id": "Spv3RoG9YSeI",
        "outputId": "27e80995-b491-4453-fd81-8bcf6fd538b9"
      },
      "execution_count": 37,
      "outputs": [
        {
          "output_type": "stream",
          "name": "stdout",
          "text": [
            "+--------------------------------------------------------------------------+-------+\n",
            "|features                                                                  |label  |\n",
            "+--------------------------------------------------------------------------+-------+\n",
            "|(17,[3,7,8,12,15],[1.0,62.0,150.0,1.0,1.0])                               |45000.0|\n",
            "|(17,[0,1,3,7,8,10,15],[1.0,2.0,1.0,44.0,120.0,1.0,1.0])                   |45000.0|\n",
            "|(17,[7,8,12,15],[132.0,100.0,1.0,1.0])                                    |50000.0|\n",
            "|[2.0,3.0,3.0,1.0,1.0,2.0,4.0,60.0,400.0,120.0,1.0,0.0,0.0,0.0,0.0,1.0,0.0]|50000.0|\n",
            "|(17,[7,12,15],[200.0,1.0,1.0])                                            |50000.0|\n",
            "|(17,[0,1,3,7,10,14],[1.0,1.0,1.0,33.0,1.0,1.0])                           |45336.0|\n",
            "|(17,[7,12,15],[120.0,1.0,1.0])                                            |45000.0|\n",
            "|(17,[7,12,15],[468.0,1.0,1.0])                                            |45000.0|\n",
            "|(17,[5,7,12,15],[1.0,180.0,1.0,1.0])                                      |50000.0|\n",
            "|(17,[7,12,15],[128.0,1.0,1.0])                                            |50000.0|\n",
            "+--------------------------------------------------------------------------+-------+\n",
            "only showing top 10 rows\n",
            "\n"
          ]
        }
      ]
    },
    {
      "cell_type": "code",
      "source": [
        "dataset_prep.count()"
      ],
      "metadata": {
        "colab": {
          "base_uri": "https://localhost:8080/"
        },
        "id": "R9FC075PYV7P",
        "outputId": "6d662c6e-8cdf-4f10-9608-67313cdf4823"
      },
      "execution_count": 38,
      "outputs": [
        {
          "output_type": "execute_result",
          "data": {
            "text/plain": [
              "69439"
            ]
          },
          "metadata": {},
          "execution_count": 38
        }
      ]
    },
    {
      "cell_type": "code",
      "source": [
        "dataset.count()"
      ],
      "metadata": {
        "colab": {
          "base_uri": "https://localhost:8080/"
        },
        "id": "8cj-nrAlYwWB",
        "outputId": "0a2dc464-7130-4966-b015-e648da16e0d3"
      },
      "execution_count": 39,
      "outputs": [
        {
          "output_type": "execute_result",
          "data": {
            "text/plain": [
              "69439"
            ]
          },
          "metadata": {},
          "execution_count": 39
        }
      ]
    },
    {
      "cell_type": "markdown",
      "source": [
        "## Exploração dos dados"
      ],
      "metadata": {
        "id": "0sVMUeBhccZV"
      }
    },
    {
      "cell_type": "code",
      "source": [
        "# passar um dataset vetorizado\n",
        "\n",
        "correlacao = Correlation.corr(dataset_prep, 'features').collect()"
      ],
      "metadata": {
        "id": "frOVyWF2ccML"
      },
      "execution_count": 40,
      "outputs": []
    },
    {
      "cell_type": "code",
      "source": [
        "correlacao"
      ],
      "metadata": {
        "colab": {
          "base_uri": "https://localhost:8080/"
        },
        "id": "NfzdOsnKYynx",
        "outputId": "f0f979c6-e71c-4352-98e0-457819f8f277"
      },
      "execution_count": 41,
      "outputs": [
        {
          "output_type": "execute_result",
          "data": {
            "text/plain": [
              "[Row(pearson(features)=DenseMatrix(17, 17, [1.0, 0.6659, -0.0446, 0.4876, 0.7529, 0.0076, -0.1074, 0.5981, ..., 0.0088, 0.1803, -0.1833, -0.0165, -0.073, -0.3084, -0.6176, 1.0], False))]"
            ]
          },
          "metadata": {},
          "execution_count": 41
        }
      ]
    },
    {
      "cell_type": "code",
      "source": [
        "correlacao = Correlation.corr(dataset_prep, 'features').collect()[0][0]"
      ],
      "metadata": {
        "id": "Idcb6tdFcqNu"
      },
      "execution_count": 42,
      "outputs": []
    },
    {
      "cell_type": "code",
      "source": [
        "correlacao"
      ],
      "metadata": {
        "colab": {
          "base_uri": "https://localhost:8080/"
        },
        "id": "BmMH5Fd3dAHx",
        "outputId": "f1b36961-0bd9-4f3e-c23f-d38ca0429313"
      },
      "execution_count": 43,
      "outputs": [
        {
          "output_type": "execute_result",
          "data": {
            "text/plain": [
              "DenseMatrix(17, 17, [1.0, 0.6659, -0.0446, 0.4876, 0.7529, 0.0076, -0.1074, 0.5981, ..., 0.0088, 0.1803, -0.1833, -0.0165, -0.073, -0.3084, -0.6176, 1.0], False)"
            ]
          },
          "metadata": {},
          "execution_count": 43
        }
      ]
    },
    {
      "cell_type": "code",
      "source": [
        "correlacao.toArray()"
      ],
      "metadata": {
        "colab": {
          "base_uri": "https://localhost:8080/"
        },
        "id": "Ag9tzDt4dCgr",
        "outputId": "61dd3819-55a5-4495-d85d-6820164ecd29"
      },
      "execution_count": 44,
      "outputs": [
        {
          "output_type": "execute_result",
          "data": {
            "text/plain": [
              "array([[ 1.00000000e+00,  6.65910814e-01, -4.45907541e-02,\n",
              "         4.87590447e-01,  7.52927830e-01,  7.62425469e-03,\n",
              "        -1.07437445e-01,  5.98072790e-01,  2.00298945e-02,\n",
              "         1.51023977e-02, -2.75457964e-01,  3.43042378e-01,\n",
              "        -1.40183420e-01, -9.73678190e-02, -1.62497441e-01,\n",
              "         2.42345124e-01, -9.87517576e-02],\n",
              "       [ 6.65910814e-01,  1.00000000e+00, -8.21840063e-02,\n",
              "         4.67161260e-01,  6.01199220e-01, -7.16195849e-03,\n",
              "        -1.30814438e-01,  5.63750247e-01,  1.84819307e-02,\n",
              "         1.36391535e-02, -2.58339018e-01,  3.49962189e-01,\n",
              "        -2.05607705e-01, -1.23732152e-01, -1.11711865e-01,\n",
              "         1.63821698e-01, -4.94325200e-02],\n",
              "       [-4.45907541e-02, -8.21840063e-02,  1.00000000e+00,\n",
              "        -4.84861921e-02, -4.81062141e-02,  1.20981700e-01,\n",
              "         7.37717422e-01, -1.03916850e-01,  1.37973623e-02,\n",
              "         6.68849447e-03,  1.53947015e-01, -1.42089598e-01,\n",
              "        -5.19462291e-02,  1.26044467e-01, -1.69262936e-02,\n",
              "        -3.17495417e-02,  1.74019374e-02],\n",
              "       [ 4.87590447e-01,  4.67161260e-01, -4.84861921e-02,\n",
              "         1.00000000e+00,  4.84987652e-01,  3.76755370e-03,\n",
              "        -7.45265146e-02,  4.83731813e-01,  1.80124560e-02,\n",
              "         9.72140387e-03, -2.52745585e-01,  2.93325601e-01,\n",
              "        -7.23593595e-02, -8.64368160e-02, -1.09956571e-01,\n",
              "         2.67989967e-01, -1.78806840e-01],\n",
              "       [ 7.52927830e-01,  6.01199220e-01, -4.81062141e-02,\n",
              "         4.84987652e-01,  1.00000000e+00,  5.20616260e-03,\n",
              "        -9.19136006e-02,  5.77635834e-01,  2.34606128e-02,\n",
              "         1.90926884e-02, -2.36216911e-01,  2.82221024e-01,\n",
              "        -8.88343634e-02, -8.44165774e-02, -2.30316589e-01,\n",
              "         3.27546479e-01, -1.36397821e-01],\n",
              "       [ 7.62425469e-03, -7.16195849e-03,  1.20981700e-01,\n",
              "         3.76755370e-03,  5.20616260e-03,  1.00000000e+00,\n",
              "         9.23587397e-02, -1.27484319e-02,  3.06513241e-03,\n",
              "         1.20011722e-03,  3.46738112e-02, -3.14033404e-02,\n",
              "        -1.32746256e-02,  2.23147530e-02, -1.11115741e-02,\n",
              "         7.51785790e-03, -4.33263857e-03],\n",
              "       [-1.07437445e-01, -1.30814438e-01,  7.37717422e-01,\n",
              "        -7.45265146e-02, -9.19136006e-02,  9.23587397e-02,\n",
              "         1.00000000e+00, -1.44221795e-01, -5.53843929e-04,\n",
              "         5.02931788e-03,  1.47497097e-01, -1.37754210e-01,\n",
              "        -4.55227478e-02,  1.53638929e-01,  3.07529156e-02,\n",
              "        -1.24335521e-02, -5.55403382e-02],\n",
              "       [ 5.98072790e-01,  5.63750247e-01, -1.03916850e-01,\n",
              "         4.83731813e-01,  5.77635834e-01, -1.27484319e-02,\n",
              "        -1.44221795e-01,  1.00000000e+00,  1.97170581e-02,\n",
              "         1.46557718e-02, -4.82170368e-01,  4.59136000e-01,\n",
              "         1.25671636e-01, -7.52556784e-02, -1.58553255e-01,\n",
              "         1.92466079e-01, -5.19618547e-02],\n",
              "       [ 2.00298945e-02,  1.84819307e-02,  1.37973623e-02,\n",
              "         1.80124560e-02,  2.34606128e-02,  3.06513241e-03,\n",
              "        -5.53843929e-04,  1.97170581e-02,  1.00000000e+00,\n",
              "         2.26212288e-01,  9.10511948e-03, -8.62354544e-03,\n",
              "        -2.49547974e-03, -3.55287358e-03, -1.34528170e-02,\n",
              "        -1.05527328e-03,  1.44735011e-02],\n",
              "       [ 1.51023977e-02,  1.36391535e-02,  6.68849447e-03,\n",
              "         9.72140387e-03,  1.90926884e-02,  1.20011722e-03,\n",
              "         5.02931788e-03,  1.46557718e-02,  2.26212288e-01,\n",
              "         1.00000000e+00, -1.50172361e-03,  2.29128332e-03,\n",
              "        -1.86978516e-03, -2.43773221e-03, -8.40029867e-03,\n",
              "        -4.27577570e-04,  8.83529747e-03],\n",
              "       [-2.75457964e-01, -2.58339018e-01,  1.53947015e-01,\n",
              "        -2.52745585e-01, -2.36216911e-01,  3.46738112e-02,\n",
              "         1.47497097e-01, -4.82170368e-01,  9.10511948e-03,\n",
              "        -1.50172361e-03,  1.00000000e+00, -9.32270330e-01,\n",
              "        -3.13032028e-01,  3.40733867e-02,  1.03123851e-02,\n",
              "        -1.76033305e-01,  1.80288204e-01],\n",
              "       [ 3.43042378e-01,  3.49962189e-01, -1.42089598e-01,\n",
              "         2.93325601e-01,  2.82221024e-01, -3.14033404e-02,\n",
              "        -1.37754210e-01,  4.59136000e-01, -8.62354544e-03,\n",
              "         2.29128332e-03, -9.32270330e-01,  1.00000000e+00,\n",
              "        -5.17506766e-02, -4.18230764e-02, -7.96096280e-03,\n",
              "         1.78639806e-01, -1.83298315e-01],\n",
              "       [-1.40183420e-01, -2.05607705e-01, -5.19462291e-02,\n",
              "        -7.23593595e-02, -8.88343634e-02, -1.32746256e-02,\n",
              "        -4.55227478e-02,  1.25671636e-01, -2.49547974e-03,\n",
              "        -1.86978516e-03, -3.13032028e-01, -5.17506766e-02,\n",
              "         1.00000000e+00,  1.57380272e-02, -7.56767884e-03,\n",
              "         1.69602975e-02, -1.64760386e-02],\n",
              "       [-9.73678190e-02, -1.23732152e-01,  1.26044467e-01,\n",
              "        -8.64368160e-02, -8.44165774e-02,  2.23147530e-02,\n",
              "         1.53638929e-01, -7.52556784e-02, -3.55287358e-03,\n",
              "        -2.43773221e-03,  3.40733867e-02, -4.18230764e-02,\n",
              "         1.57380272e-02,  1.00000000e+00, -6.18350359e-02,\n",
              "        -1.23834280e-01, -7.30144333e-02],\n",
              "       [-1.62497441e-01, -1.11711865e-01, -1.69262936e-02,\n",
              "        -1.09956571e-01, -2.30316589e-01, -1.11115741e-02,\n",
              "         3.07529156e-02, -1.58553255e-01, -1.34528170e-02,\n",
              "        -8.40029867e-03,  1.03123851e-02, -7.96096280e-03,\n",
              "        -7.56767884e-03, -6.18350359e-02,  1.00000000e+00,\n",
              "        -5.22996452e-01, -3.08366065e-01],\n",
              "       [ 2.42345124e-01,  1.63821698e-01, -3.17495417e-02,\n",
              "         2.67989967e-01,  3.27546479e-01,  7.51785790e-03,\n",
              "        -1.24335521e-02,  1.92466079e-01, -1.05527328e-03,\n",
              "        -4.27577570e-04, -1.76033305e-01,  1.78639806e-01,\n",
              "         1.69602975e-02, -1.23834280e-01, -5.22996452e-01,\n",
              "         1.00000000e+00, -6.17551022e-01],\n",
              "       [-9.87517576e-02, -4.94325200e-02,  1.74019374e-02,\n",
              "        -1.78806840e-01, -1.36397821e-01, -4.33263857e-03,\n",
              "        -5.55403382e-02, -5.19618547e-02,  1.44735011e-02,\n",
              "         8.83529747e-03,  1.80288204e-01, -1.83298315e-01,\n",
              "        -1.64760386e-02, -7.30144333e-02, -3.08366065e-01,\n",
              "        -6.17551022e-01,  1.00000000e+00]])"
            ]
          },
          "metadata": {},
          "execution_count": 44
        }
      ]
    },
    {
      "cell_type": "code",
      "source": [
        "dataframe_correlacao = pd.DataFrame(correlacao.toArray(), columns = X, index = X)"
      ],
      "metadata": {
        "id": "1EKJAZv7dKXA"
      },
      "execution_count": 45,
      "outputs": []
    },
    {
      "cell_type": "code",
      "source": [
        "dataframe_correlacao"
      ],
      "metadata": {
        "colab": {
          "base_uri": "https://localhost:8080/",
          "height": 620
        },
        "id": "ZqPWaRsHdXCR",
        "outputId": "d32b492e-f058-413c-f954-5e32b3e3d656"
      },
      "execution_count": 46,
      "outputs": [
        {
          "output_type": "execute_result",
          "data": {
            "text/plain": [
              "                 bathrooms  bedrooms    floors  parkingSpaces    suites  \\\n",
              "bathrooms         1.000000  0.665911 -0.044591       0.487590  0.752928   \n",
              "bedrooms          0.665911  1.000000 -0.082184       0.467161  0.601199   \n",
              "floors           -0.044591 -0.082184  1.000000      -0.048486 -0.048106   \n",
              "parkingSpaces     0.487590  0.467161 -0.048486       1.000000  0.484988   \n",
              "suites            0.752928  0.601199 -0.048106       0.484988  1.000000   \n",
              "unitFloor         0.007624 -0.007162  0.120982       0.003768  0.005206   \n",
              "unitsOnTheFloor  -0.107437 -0.130814  0.737717      -0.074527 -0.091914   \n",
              "usableAreas       0.598073  0.563750 -0.103917       0.483732  0.577636   \n",
              "condo             0.020030  0.018482  0.013797       0.018012  0.023461   \n",
              "iptu              0.015102  0.013639  0.006688       0.009721  0.019093   \n",
              "Apartamento      -0.275458 -0.258339  0.153947      -0.252746 -0.236217   \n",
              "Casa              0.343042  0.349962 -0.142090       0.293326  0.282221   \n",
              "Outros           -0.140183 -0.205608 -0.051946      -0.072359 -0.088834   \n",
              "Zona Central     -0.097368 -0.123732  0.126044      -0.086437 -0.084417   \n",
              "Zona Norte       -0.162497 -0.111712 -0.016926      -0.109957 -0.230317   \n",
              "Zona Oeste        0.242345  0.163822 -0.031750       0.267990  0.327546   \n",
              "Zona Sul         -0.098752 -0.049433  0.017402      -0.178807 -0.136398   \n",
              "\n",
              "                 unitFloor  unitsOnTheFloor  usableAreas     condo      iptu  \\\n",
              "bathrooms         0.007624        -0.107437     0.598073  0.020030  0.015102   \n",
              "bedrooms         -0.007162        -0.130814     0.563750  0.018482  0.013639   \n",
              "floors            0.120982         0.737717    -0.103917  0.013797  0.006688   \n",
              "parkingSpaces     0.003768        -0.074527     0.483732  0.018012  0.009721   \n",
              "suites            0.005206        -0.091914     0.577636  0.023461  0.019093   \n",
              "unitFloor         1.000000         0.092359    -0.012748  0.003065  0.001200   \n",
              "unitsOnTheFloor   0.092359         1.000000    -0.144222 -0.000554  0.005029   \n",
              "usableAreas      -0.012748        -0.144222     1.000000  0.019717  0.014656   \n",
              "condo             0.003065        -0.000554     0.019717  1.000000  0.226212   \n",
              "iptu              0.001200         0.005029     0.014656  0.226212  1.000000   \n",
              "Apartamento       0.034674         0.147497    -0.482170  0.009105 -0.001502   \n",
              "Casa             -0.031403        -0.137754     0.459136 -0.008624  0.002291   \n",
              "Outros           -0.013275        -0.045523     0.125672 -0.002495 -0.001870   \n",
              "Zona Central      0.022315         0.153639    -0.075256 -0.003553 -0.002438   \n",
              "Zona Norte       -0.011112         0.030753    -0.158553 -0.013453 -0.008400   \n",
              "Zona Oeste        0.007518        -0.012434     0.192466 -0.001055 -0.000428   \n",
              "Zona Sul         -0.004333        -0.055540    -0.051962  0.014474  0.008835   \n",
              "\n",
              "                 Apartamento      Casa    Outros  Zona Central  Zona Norte  \\\n",
              "bathrooms          -0.275458  0.343042 -0.140183     -0.097368   -0.162497   \n",
              "bedrooms           -0.258339  0.349962 -0.205608     -0.123732   -0.111712   \n",
              "floors              0.153947 -0.142090 -0.051946      0.126044   -0.016926   \n",
              "parkingSpaces      -0.252746  0.293326 -0.072359     -0.086437   -0.109957   \n",
              "suites             -0.236217  0.282221 -0.088834     -0.084417   -0.230317   \n",
              "unitFloor           0.034674 -0.031403 -0.013275      0.022315   -0.011112   \n",
              "unitsOnTheFloor     0.147497 -0.137754 -0.045523      0.153639    0.030753   \n",
              "usableAreas        -0.482170  0.459136  0.125672     -0.075256   -0.158553   \n",
              "condo               0.009105 -0.008624 -0.002495     -0.003553   -0.013453   \n",
              "iptu               -0.001502  0.002291 -0.001870     -0.002438   -0.008400   \n",
              "Apartamento         1.000000 -0.932270 -0.313032      0.034073    0.010312   \n",
              "Casa               -0.932270  1.000000 -0.051751     -0.041823   -0.007961   \n",
              "Outros             -0.313032 -0.051751  1.000000      0.015738   -0.007568   \n",
              "Zona Central        0.034073 -0.041823  0.015738      1.000000   -0.061835   \n",
              "Zona Norte          0.010312 -0.007961 -0.007568     -0.061835    1.000000   \n",
              "Zona Oeste         -0.176033  0.178640  0.016960     -0.123834   -0.522996   \n",
              "Zona Sul            0.180288 -0.183298 -0.016476     -0.073014   -0.308366   \n",
              "\n",
              "                 Zona Oeste  Zona Sul  \n",
              "bathrooms          0.242345 -0.098752  \n",
              "bedrooms           0.163822 -0.049433  \n",
              "floors            -0.031750  0.017402  \n",
              "parkingSpaces      0.267990 -0.178807  \n",
              "suites             0.327546 -0.136398  \n",
              "unitFloor          0.007518 -0.004333  \n",
              "unitsOnTheFloor   -0.012434 -0.055540  \n",
              "usableAreas        0.192466 -0.051962  \n",
              "condo             -0.001055  0.014474  \n",
              "iptu              -0.000428  0.008835  \n",
              "Apartamento       -0.176033  0.180288  \n",
              "Casa               0.178640 -0.183298  \n",
              "Outros             0.016960 -0.016476  \n",
              "Zona Central      -0.123834 -0.073014  \n",
              "Zona Norte        -0.522996 -0.308366  \n",
              "Zona Oeste         1.000000 -0.617551  \n",
              "Zona Sul          -0.617551  1.000000  "
            ],
            "text/html": [
              "\n",
              "  <div id=\"df-20a9a1ae-dc9a-4124-a222-0a88f2f63610\" class=\"colab-df-container\">\n",
              "    <div>\n",
              "<style scoped>\n",
              "    .dataframe tbody tr th:only-of-type {\n",
              "        vertical-align: middle;\n",
              "    }\n",
              "\n",
              "    .dataframe tbody tr th {\n",
              "        vertical-align: top;\n",
              "    }\n",
              "\n",
              "    .dataframe thead th {\n",
              "        text-align: right;\n",
              "    }\n",
              "</style>\n",
              "<table border=\"1\" class=\"dataframe\">\n",
              "  <thead>\n",
              "    <tr style=\"text-align: right;\">\n",
              "      <th></th>\n",
              "      <th>bathrooms</th>\n",
              "      <th>bedrooms</th>\n",
              "      <th>floors</th>\n",
              "      <th>parkingSpaces</th>\n",
              "      <th>suites</th>\n",
              "      <th>unitFloor</th>\n",
              "      <th>unitsOnTheFloor</th>\n",
              "      <th>usableAreas</th>\n",
              "      <th>condo</th>\n",
              "      <th>iptu</th>\n",
              "      <th>Apartamento</th>\n",
              "      <th>Casa</th>\n",
              "      <th>Outros</th>\n",
              "      <th>Zona Central</th>\n",
              "      <th>Zona Norte</th>\n",
              "      <th>Zona Oeste</th>\n",
              "      <th>Zona Sul</th>\n",
              "    </tr>\n",
              "  </thead>\n",
              "  <tbody>\n",
              "    <tr>\n",
              "      <th>bathrooms</th>\n",
              "      <td>1.000000</td>\n",
              "      <td>0.665911</td>\n",
              "      <td>-0.044591</td>\n",
              "      <td>0.487590</td>\n",
              "      <td>0.752928</td>\n",
              "      <td>0.007624</td>\n",
              "      <td>-0.107437</td>\n",
              "      <td>0.598073</td>\n",
              "      <td>0.020030</td>\n",
              "      <td>0.015102</td>\n",
              "      <td>-0.275458</td>\n",
              "      <td>0.343042</td>\n",
              "      <td>-0.140183</td>\n",
              "      <td>-0.097368</td>\n",
              "      <td>-0.162497</td>\n",
              "      <td>0.242345</td>\n",
              "      <td>-0.098752</td>\n",
              "    </tr>\n",
              "    <tr>\n",
              "      <th>bedrooms</th>\n",
              "      <td>0.665911</td>\n",
              "      <td>1.000000</td>\n",
              "      <td>-0.082184</td>\n",
              "      <td>0.467161</td>\n",
              "      <td>0.601199</td>\n",
              "      <td>-0.007162</td>\n",
              "      <td>-0.130814</td>\n",
              "      <td>0.563750</td>\n",
              "      <td>0.018482</td>\n",
              "      <td>0.013639</td>\n",
              "      <td>-0.258339</td>\n",
              "      <td>0.349962</td>\n",
              "      <td>-0.205608</td>\n",
              "      <td>-0.123732</td>\n",
              "      <td>-0.111712</td>\n",
              "      <td>0.163822</td>\n",
              "      <td>-0.049433</td>\n",
              "    </tr>\n",
              "    <tr>\n",
              "      <th>floors</th>\n",
              "      <td>-0.044591</td>\n",
              "      <td>-0.082184</td>\n",
              "      <td>1.000000</td>\n",
              "      <td>-0.048486</td>\n",
              "      <td>-0.048106</td>\n",
              "      <td>0.120982</td>\n",
              "      <td>0.737717</td>\n",
              "      <td>-0.103917</td>\n",
              "      <td>0.013797</td>\n",
              "      <td>0.006688</td>\n",
              "      <td>0.153947</td>\n",
              "      <td>-0.142090</td>\n",
              "      <td>-0.051946</td>\n",
              "      <td>0.126044</td>\n",
              "      <td>-0.016926</td>\n",
              "      <td>-0.031750</td>\n",
              "      <td>0.017402</td>\n",
              "    </tr>\n",
              "    <tr>\n",
              "      <th>parkingSpaces</th>\n",
              "      <td>0.487590</td>\n",
              "      <td>0.467161</td>\n",
              "      <td>-0.048486</td>\n",
              "      <td>1.000000</td>\n",
              "      <td>0.484988</td>\n",
              "      <td>0.003768</td>\n",
              "      <td>-0.074527</td>\n",
              "      <td>0.483732</td>\n",
              "      <td>0.018012</td>\n",
              "      <td>0.009721</td>\n",
              "      <td>-0.252746</td>\n",
              "      <td>0.293326</td>\n",
              "      <td>-0.072359</td>\n",
              "      <td>-0.086437</td>\n",
              "      <td>-0.109957</td>\n",
              "      <td>0.267990</td>\n",
              "      <td>-0.178807</td>\n",
              "    </tr>\n",
              "    <tr>\n",
              "      <th>suites</th>\n",
              "      <td>0.752928</td>\n",
              "      <td>0.601199</td>\n",
              "      <td>-0.048106</td>\n",
              "      <td>0.484988</td>\n",
              "      <td>1.000000</td>\n",
              "      <td>0.005206</td>\n",
              "      <td>-0.091914</td>\n",
              "      <td>0.577636</td>\n",
              "      <td>0.023461</td>\n",
              "      <td>0.019093</td>\n",
              "      <td>-0.236217</td>\n",
              "      <td>0.282221</td>\n",
              "      <td>-0.088834</td>\n",
              "      <td>-0.084417</td>\n",
              "      <td>-0.230317</td>\n",
              "      <td>0.327546</td>\n",
              "      <td>-0.136398</td>\n",
              "    </tr>\n",
              "    <tr>\n",
              "      <th>unitFloor</th>\n",
              "      <td>0.007624</td>\n",
              "      <td>-0.007162</td>\n",
              "      <td>0.120982</td>\n",
              "      <td>0.003768</td>\n",
              "      <td>0.005206</td>\n",
              "      <td>1.000000</td>\n",
              "      <td>0.092359</td>\n",
              "      <td>-0.012748</td>\n",
              "      <td>0.003065</td>\n",
              "      <td>0.001200</td>\n",
              "      <td>0.034674</td>\n",
              "      <td>-0.031403</td>\n",
              "      <td>-0.013275</td>\n",
              "      <td>0.022315</td>\n",
              "      <td>-0.011112</td>\n",
              "      <td>0.007518</td>\n",
              "      <td>-0.004333</td>\n",
              "    </tr>\n",
              "    <tr>\n",
              "      <th>unitsOnTheFloor</th>\n",
              "      <td>-0.107437</td>\n",
              "      <td>-0.130814</td>\n",
              "      <td>0.737717</td>\n",
              "      <td>-0.074527</td>\n",
              "      <td>-0.091914</td>\n",
              "      <td>0.092359</td>\n",
              "      <td>1.000000</td>\n",
              "      <td>-0.144222</td>\n",
              "      <td>-0.000554</td>\n",
              "      <td>0.005029</td>\n",
              "      <td>0.147497</td>\n",
              "      <td>-0.137754</td>\n",
              "      <td>-0.045523</td>\n",
              "      <td>0.153639</td>\n",
              "      <td>0.030753</td>\n",
              "      <td>-0.012434</td>\n",
              "      <td>-0.055540</td>\n",
              "    </tr>\n",
              "    <tr>\n",
              "      <th>usableAreas</th>\n",
              "      <td>0.598073</td>\n",
              "      <td>0.563750</td>\n",
              "      <td>-0.103917</td>\n",
              "      <td>0.483732</td>\n",
              "      <td>0.577636</td>\n",
              "      <td>-0.012748</td>\n",
              "      <td>-0.144222</td>\n",
              "      <td>1.000000</td>\n",
              "      <td>0.019717</td>\n",
              "      <td>0.014656</td>\n",
              "      <td>-0.482170</td>\n",
              "      <td>0.459136</td>\n",
              "      <td>0.125672</td>\n",
              "      <td>-0.075256</td>\n",
              "      <td>-0.158553</td>\n",
              "      <td>0.192466</td>\n",
              "      <td>-0.051962</td>\n",
              "    </tr>\n",
              "    <tr>\n",
              "      <th>condo</th>\n",
              "      <td>0.020030</td>\n",
              "      <td>0.018482</td>\n",
              "      <td>0.013797</td>\n",
              "      <td>0.018012</td>\n",
              "      <td>0.023461</td>\n",
              "      <td>0.003065</td>\n",
              "      <td>-0.000554</td>\n",
              "      <td>0.019717</td>\n",
              "      <td>1.000000</td>\n",
              "      <td>0.226212</td>\n",
              "      <td>0.009105</td>\n",
              "      <td>-0.008624</td>\n",
              "      <td>-0.002495</td>\n",
              "      <td>-0.003553</td>\n",
              "      <td>-0.013453</td>\n",
              "      <td>-0.001055</td>\n",
              "      <td>0.014474</td>\n",
              "    </tr>\n",
              "    <tr>\n",
              "      <th>iptu</th>\n",
              "      <td>0.015102</td>\n",
              "      <td>0.013639</td>\n",
              "      <td>0.006688</td>\n",
              "      <td>0.009721</td>\n",
              "      <td>0.019093</td>\n",
              "      <td>0.001200</td>\n",
              "      <td>0.005029</td>\n",
              "      <td>0.014656</td>\n",
              "      <td>0.226212</td>\n",
              "      <td>1.000000</td>\n",
              "      <td>-0.001502</td>\n",
              "      <td>0.002291</td>\n",
              "      <td>-0.001870</td>\n",
              "      <td>-0.002438</td>\n",
              "      <td>-0.008400</td>\n",
              "      <td>-0.000428</td>\n",
              "      <td>0.008835</td>\n",
              "    </tr>\n",
              "    <tr>\n",
              "      <th>Apartamento</th>\n",
              "      <td>-0.275458</td>\n",
              "      <td>-0.258339</td>\n",
              "      <td>0.153947</td>\n",
              "      <td>-0.252746</td>\n",
              "      <td>-0.236217</td>\n",
              "      <td>0.034674</td>\n",
              "      <td>0.147497</td>\n",
              "      <td>-0.482170</td>\n",
              "      <td>0.009105</td>\n",
              "      <td>-0.001502</td>\n",
              "      <td>1.000000</td>\n",
              "      <td>-0.932270</td>\n",
              "      <td>-0.313032</td>\n",
              "      <td>0.034073</td>\n",
              "      <td>0.010312</td>\n",
              "      <td>-0.176033</td>\n",
              "      <td>0.180288</td>\n",
              "    </tr>\n",
              "    <tr>\n",
              "      <th>Casa</th>\n",
              "      <td>0.343042</td>\n",
              "      <td>0.349962</td>\n",
              "      <td>-0.142090</td>\n",
              "      <td>0.293326</td>\n",
              "      <td>0.282221</td>\n",
              "      <td>-0.031403</td>\n",
              "      <td>-0.137754</td>\n",
              "      <td>0.459136</td>\n",
              "      <td>-0.008624</td>\n",
              "      <td>0.002291</td>\n",
              "      <td>-0.932270</td>\n",
              "      <td>1.000000</td>\n",
              "      <td>-0.051751</td>\n",
              "      <td>-0.041823</td>\n",
              "      <td>-0.007961</td>\n",
              "      <td>0.178640</td>\n",
              "      <td>-0.183298</td>\n",
              "    </tr>\n",
              "    <tr>\n",
              "      <th>Outros</th>\n",
              "      <td>-0.140183</td>\n",
              "      <td>-0.205608</td>\n",
              "      <td>-0.051946</td>\n",
              "      <td>-0.072359</td>\n",
              "      <td>-0.088834</td>\n",
              "      <td>-0.013275</td>\n",
              "      <td>-0.045523</td>\n",
              "      <td>0.125672</td>\n",
              "      <td>-0.002495</td>\n",
              "      <td>-0.001870</td>\n",
              "      <td>-0.313032</td>\n",
              "      <td>-0.051751</td>\n",
              "      <td>1.000000</td>\n",
              "      <td>0.015738</td>\n",
              "      <td>-0.007568</td>\n",
              "      <td>0.016960</td>\n",
              "      <td>-0.016476</td>\n",
              "    </tr>\n",
              "    <tr>\n",
              "      <th>Zona Central</th>\n",
              "      <td>-0.097368</td>\n",
              "      <td>-0.123732</td>\n",
              "      <td>0.126044</td>\n",
              "      <td>-0.086437</td>\n",
              "      <td>-0.084417</td>\n",
              "      <td>0.022315</td>\n",
              "      <td>0.153639</td>\n",
              "      <td>-0.075256</td>\n",
              "      <td>-0.003553</td>\n",
              "      <td>-0.002438</td>\n",
              "      <td>0.034073</td>\n",
              "      <td>-0.041823</td>\n",
              "      <td>0.015738</td>\n",
              "      <td>1.000000</td>\n",
              "      <td>-0.061835</td>\n",
              "      <td>-0.123834</td>\n",
              "      <td>-0.073014</td>\n",
              "    </tr>\n",
              "    <tr>\n",
              "      <th>Zona Norte</th>\n",
              "      <td>-0.162497</td>\n",
              "      <td>-0.111712</td>\n",
              "      <td>-0.016926</td>\n",
              "      <td>-0.109957</td>\n",
              "      <td>-0.230317</td>\n",
              "      <td>-0.011112</td>\n",
              "      <td>0.030753</td>\n",
              "      <td>-0.158553</td>\n",
              "      <td>-0.013453</td>\n",
              "      <td>-0.008400</td>\n",
              "      <td>0.010312</td>\n",
              "      <td>-0.007961</td>\n",
              "      <td>-0.007568</td>\n",
              "      <td>-0.061835</td>\n",
              "      <td>1.000000</td>\n",
              "      <td>-0.522996</td>\n",
              "      <td>-0.308366</td>\n",
              "    </tr>\n",
              "    <tr>\n",
              "      <th>Zona Oeste</th>\n",
              "      <td>0.242345</td>\n",
              "      <td>0.163822</td>\n",
              "      <td>-0.031750</td>\n",
              "      <td>0.267990</td>\n",
              "      <td>0.327546</td>\n",
              "      <td>0.007518</td>\n",
              "      <td>-0.012434</td>\n",
              "      <td>0.192466</td>\n",
              "      <td>-0.001055</td>\n",
              "      <td>-0.000428</td>\n",
              "      <td>-0.176033</td>\n",
              "      <td>0.178640</td>\n",
              "      <td>0.016960</td>\n",
              "      <td>-0.123834</td>\n",
              "      <td>-0.522996</td>\n",
              "      <td>1.000000</td>\n",
              "      <td>-0.617551</td>\n",
              "    </tr>\n",
              "    <tr>\n",
              "      <th>Zona Sul</th>\n",
              "      <td>-0.098752</td>\n",
              "      <td>-0.049433</td>\n",
              "      <td>0.017402</td>\n",
              "      <td>-0.178807</td>\n",
              "      <td>-0.136398</td>\n",
              "      <td>-0.004333</td>\n",
              "      <td>-0.055540</td>\n",
              "      <td>-0.051962</td>\n",
              "      <td>0.014474</td>\n",
              "      <td>0.008835</td>\n",
              "      <td>0.180288</td>\n",
              "      <td>-0.183298</td>\n",
              "      <td>-0.016476</td>\n",
              "      <td>-0.073014</td>\n",
              "      <td>-0.308366</td>\n",
              "      <td>-0.617551</td>\n",
              "      <td>1.000000</td>\n",
              "    </tr>\n",
              "  </tbody>\n",
              "</table>\n",
              "</div>\n",
              "    <div class=\"colab-df-buttons\">\n",
              "\n",
              "  <div class=\"colab-df-container\">\n",
              "    <button class=\"colab-df-convert\" onclick=\"convertToInteractive('df-20a9a1ae-dc9a-4124-a222-0a88f2f63610')\"\n",
              "            title=\"Convert this dataframe to an interactive table.\"\n",
              "            style=\"display:none;\">\n",
              "\n",
              "  <svg xmlns=\"http://www.w3.org/2000/svg\" height=\"24px\" viewBox=\"0 -960 960 960\">\n",
              "    <path d=\"M120-120v-720h720v720H120Zm60-500h600v-160H180v160Zm220 220h160v-160H400v160Zm0 220h160v-160H400v160ZM180-400h160v-160H180v160Zm440 0h160v-160H620v160ZM180-180h160v-160H180v160Zm440 0h160v-160H620v160Z\"/>\n",
              "  </svg>\n",
              "    </button>\n",
              "\n",
              "  <style>\n",
              "    .colab-df-container {\n",
              "      display:flex;\n",
              "      gap: 12px;\n",
              "    }\n",
              "\n",
              "    .colab-df-convert {\n",
              "      background-color: #E8F0FE;\n",
              "      border: none;\n",
              "      border-radius: 50%;\n",
              "      cursor: pointer;\n",
              "      display: none;\n",
              "      fill: #1967D2;\n",
              "      height: 32px;\n",
              "      padding: 0 0 0 0;\n",
              "      width: 32px;\n",
              "    }\n",
              "\n",
              "    .colab-df-convert:hover {\n",
              "      background-color: #E2EBFA;\n",
              "      box-shadow: 0px 1px 2px rgba(60, 64, 67, 0.3), 0px 1px 3px 1px rgba(60, 64, 67, 0.15);\n",
              "      fill: #174EA6;\n",
              "    }\n",
              "\n",
              "    .colab-df-buttons div {\n",
              "      margin-bottom: 4px;\n",
              "    }\n",
              "\n",
              "    [theme=dark] .colab-df-convert {\n",
              "      background-color: #3B4455;\n",
              "      fill: #D2E3FC;\n",
              "    }\n",
              "\n",
              "    [theme=dark] .colab-df-convert:hover {\n",
              "      background-color: #434B5C;\n",
              "      box-shadow: 0px 1px 3px 1px rgba(0, 0, 0, 0.15);\n",
              "      filter: drop-shadow(0px 1px 2px rgba(0, 0, 0, 0.3));\n",
              "      fill: #FFFFFF;\n",
              "    }\n",
              "  </style>\n",
              "\n",
              "    <script>\n",
              "      const buttonEl =\n",
              "        document.querySelector('#df-20a9a1ae-dc9a-4124-a222-0a88f2f63610 button.colab-df-convert');\n",
              "      buttonEl.style.display =\n",
              "        google.colab.kernel.accessAllowed ? 'block' : 'none';\n",
              "\n",
              "      async function convertToInteractive(key) {\n",
              "        const element = document.querySelector('#df-20a9a1ae-dc9a-4124-a222-0a88f2f63610');\n",
              "        const dataTable =\n",
              "          await google.colab.kernel.invokeFunction('convertToInteractive',\n",
              "                                                    [key], {});\n",
              "        if (!dataTable) return;\n",
              "\n",
              "        const docLinkHtml = 'Like what you see? Visit the ' +\n",
              "          '<a target=\"_blank\" href=https://colab.research.google.com/notebooks/data_table.ipynb>data table notebook</a>'\n",
              "          + ' to learn more about interactive tables.';\n",
              "        element.innerHTML = '';\n",
              "        dataTable['output_type'] = 'display_data';\n",
              "        await google.colab.output.renderOutput(dataTable, element);\n",
              "        const docLink = document.createElement('div');\n",
              "        docLink.innerHTML = docLinkHtml;\n",
              "        element.appendChild(docLink);\n",
              "      }\n",
              "    </script>\n",
              "  </div>\n",
              "\n",
              "\n",
              "<div id=\"df-d165ef27-8392-42ec-9139-53632c330d11\">\n",
              "  <button class=\"colab-df-quickchart\" onclick=\"quickchart('df-d165ef27-8392-42ec-9139-53632c330d11')\"\n",
              "            title=\"Suggest charts\"\n",
              "            style=\"display:none;\">\n",
              "\n",
              "<svg xmlns=\"http://www.w3.org/2000/svg\" height=\"24px\"viewBox=\"0 0 24 24\"\n",
              "     width=\"24px\">\n",
              "    <g>\n",
              "        <path d=\"M19 3H5c-1.1 0-2 .9-2 2v14c0 1.1.9 2 2 2h14c1.1 0 2-.9 2-2V5c0-1.1-.9-2-2-2zM9 17H7v-7h2v7zm4 0h-2V7h2v10zm4 0h-2v-4h2v4z\"/>\n",
              "    </g>\n",
              "</svg>\n",
              "  </button>\n",
              "\n",
              "<style>\n",
              "  .colab-df-quickchart {\n",
              "      --bg-color: #E8F0FE;\n",
              "      --fill-color: #1967D2;\n",
              "      --hover-bg-color: #E2EBFA;\n",
              "      --hover-fill-color: #174EA6;\n",
              "      --disabled-fill-color: #AAA;\n",
              "      --disabled-bg-color: #DDD;\n",
              "  }\n",
              "\n",
              "  [theme=dark] .colab-df-quickchart {\n",
              "      --bg-color: #3B4455;\n",
              "      --fill-color: #D2E3FC;\n",
              "      --hover-bg-color: #434B5C;\n",
              "      --hover-fill-color: #FFFFFF;\n",
              "      --disabled-bg-color: #3B4455;\n",
              "      --disabled-fill-color: #666;\n",
              "  }\n",
              "\n",
              "  .colab-df-quickchart {\n",
              "    background-color: var(--bg-color);\n",
              "    border: none;\n",
              "    border-radius: 50%;\n",
              "    cursor: pointer;\n",
              "    display: none;\n",
              "    fill: var(--fill-color);\n",
              "    height: 32px;\n",
              "    padding: 0;\n",
              "    width: 32px;\n",
              "  }\n",
              "\n",
              "  .colab-df-quickchart:hover {\n",
              "    background-color: var(--hover-bg-color);\n",
              "    box-shadow: 0 1px 2px rgba(60, 64, 67, 0.3), 0 1px 3px 1px rgba(60, 64, 67, 0.15);\n",
              "    fill: var(--button-hover-fill-color);\n",
              "  }\n",
              "\n",
              "  .colab-df-quickchart-complete:disabled,\n",
              "  .colab-df-quickchart-complete:disabled:hover {\n",
              "    background-color: var(--disabled-bg-color);\n",
              "    fill: var(--disabled-fill-color);\n",
              "    box-shadow: none;\n",
              "  }\n",
              "\n",
              "  .colab-df-spinner {\n",
              "    border: 2px solid var(--fill-color);\n",
              "    border-color: transparent;\n",
              "    border-bottom-color: var(--fill-color);\n",
              "    animation:\n",
              "      spin 1s steps(1) infinite;\n",
              "  }\n",
              "\n",
              "  @keyframes spin {\n",
              "    0% {\n",
              "      border-color: transparent;\n",
              "      border-bottom-color: var(--fill-color);\n",
              "      border-left-color: var(--fill-color);\n",
              "    }\n",
              "    20% {\n",
              "      border-color: transparent;\n",
              "      border-left-color: var(--fill-color);\n",
              "      border-top-color: var(--fill-color);\n",
              "    }\n",
              "    30% {\n",
              "      border-color: transparent;\n",
              "      border-left-color: var(--fill-color);\n",
              "      border-top-color: var(--fill-color);\n",
              "      border-right-color: var(--fill-color);\n",
              "    }\n",
              "    40% {\n",
              "      border-color: transparent;\n",
              "      border-right-color: var(--fill-color);\n",
              "      border-top-color: var(--fill-color);\n",
              "    }\n",
              "    60% {\n",
              "      border-color: transparent;\n",
              "      border-right-color: var(--fill-color);\n",
              "    }\n",
              "    80% {\n",
              "      border-color: transparent;\n",
              "      border-right-color: var(--fill-color);\n",
              "      border-bottom-color: var(--fill-color);\n",
              "    }\n",
              "    90% {\n",
              "      border-color: transparent;\n",
              "      border-bottom-color: var(--fill-color);\n",
              "    }\n",
              "  }\n",
              "</style>\n",
              "\n",
              "  <script>\n",
              "    async function quickchart(key) {\n",
              "      const quickchartButtonEl =\n",
              "        document.querySelector('#' + key + ' button');\n",
              "      quickchartButtonEl.disabled = true;  // To prevent multiple clicks.\n",
              "      quickchartButtonEl.classList.add('colab-df-spinner');\n",
              "      try {\n",
              "        const charts = await google.colab.kernel.invokeFunction(\n",
              "            'suggestCharts', [key], {});\n",
              "      } catch (error) {\n",
              "        console.error('Error during call to suggestCharts:', error);\n",
              "      }\n",
              "      quickchartButtonEl.classList.remove('colab-df-spinner');\n",
              "      quickchartButtonEl.classList.add('colab-df-quickchart-complete');\n",
              "    }\n",
              "    (() => {\n",
              "      let quickchartButtonEl =\n",
              "        document.querySelector('#df-d165ef27-8392-42ec-9139-53632c330d11 button');\n",
              "      quickchartButtonEl.style.display =\n",
              "        google.colab.kernel.accessAllowed ? 'block' : 'none';\n",
              "    })();\n",
              "  </script>\n",
              "</div>\n",
              "\n",
              "  <div id=\"id_7aec3e96-817d-4938-99a8-69a8a931d168\">\n",
              "    <style>\n",
              "      .colab-df-generate {\n",
              "        background-color: #E8F0FE;\n",
              "        border: none;\n",
              "        border-radius: 50%;\n",
              "        cursor: pointer;\n",
              "        display: none;\n",
              "        fill: #1967D2;\n",
              "        height: 32px;\n",
              "        padding: 0 0 0 0;\n",
              "        width: 32px;\n",
              "      }\n",
              "\n",
              "      .colab-df-generate:hover {\n",
              "        background-color: #E2EBFA;\n",
              "        box-shadow: 0px 1px 2px rgba(60, 64, 67, 0.3), 0px 1px 3px 1px rgba(60, 64, 67, 0.15);\n",
              "        fill: #174EA6;\n",
              "      }\n",
              "\n",
              "      [theme=dark] .colab-df-generate {\n",
              "        background-color: #3B4455;\n",
              "        fill: #D2E3FC;\n",
              "      }\n",
              "\n",
              "      [theme=dark] .colab-df-generate:hover {\n",
              "        background-color: #434B5C;\n",
              "        box-shadow: 0px 1px 3px 1px rgba(0, 0, 0, 0.15);\n",
              "        filter: drop-shadow(0px 1px 2px rgba(0, 0, 0, 0.3));\n",
              "        fill: #FFFFFF;\n",
              "      }\n",
              "    </style>\n",
              "    <button class=\"colab-df-generate\" onclick=\"generateWithVariable('dataframe_correlacao')\"\n",
              "            title=\"Generate code using this dataframe.\"\n",
              "            style=\"display:none;\">\n",
              "\n",
              "  <svg xmlns=\"http://www.w3.org/2000/svg\" height=\"24px\"viewBox=\"0 0 24 24\"\n",
              "       width=\"24px\">\n",
              "    <path d=\"M7,19H8.4L18.45,9,17,7.55,7,17.6ZM5,21V16.75L18.45,3.32a2,2,0,0,1,2.83,0l1.4,1.43a1.91,1.91,0,0,1,.58,1.4,1.91,1.91,0,0,1-.58,1.4L9.25,21ZM18.45,9,17,7.55Zm-12,3A5.31,5.31,0,0,0,4.9,8.1,5.31,5.31,0,0,0,1,6.5,5.31,5.31,0,0,0,4.9,4.9,5.31,5.31,0,0,0,6.5,1,5.31,5.31,0,0,0,8.1,4.9,5.31,5.31,0,0,0,12,6.5,5.46,5.46,0,0,0,6.5,12Z\"/>\n",
              "  </svg>\n",
              "    </button>\n",
              "    <script>\n",
              "      (() => {\n",
              "      const buttonEl =\n",
              "        document.querySelector('#id_7aec3e96-817d-4938-99a8-69a8a931d168 button.colab-df-generate');\n",
              "      buttonEl.style.display =\n",
              "        google.colab.kernel.accessAllowed ? 'block' : 'none';\n",
              "\n",
              "      buttonEl.onclick = () => {\n",
              "        google.colab.notebook.generateWithVariable('dataframe_correlacao');\n",
              "      }\n",
              "      })();\n",
              "    </script>\n",
              "  </div>\n",
              "\n",
              "    </div>\n",
              "  </div>\n"
            ]
          },
          "metadata": {},
          "execution_count": 46
        }
      ]
    },
    {
      "cell_type": "code",
      "source": [
        "plt.figure(figsize = (12, 10))\n",
        "paleta = sns.color_palette('light:salmon', as_cmap = True)\n",
        "sns.heatmap(dataframe_correlacao.round(1), annot = True, cmap = paleta)"
      ],
      "metadata": {
        "colab": {
          "base_uri": "https://localhost:8080/",
          "height": 953
        },
        "id": "4h9n-AECdYgL",
        "outputId": "b7ef44de-560a-442b-9a88-25ba34e3cdde"
      },
      "execution_count": 47,
      "outputs": [
        {
          "output_type": "execute_result",
          "data": {
            "text/plain": [
              "<Axes: >"
            ]
          },
          "metadata": {},
          "execution_count": 47
        },
        {
          "output_type": "display_data",
          "data": {
            "text/plain": [
              "<Figure size 1200x1000 with 2 Axes>"
            ],
            "image/png": "[encoded data removed]"
          },
          "metadata": {}
        }
      ]
    },
    {
      "cell_type": "markdown",
      "source": [
        "**Multicolinearidade**: correlação entre duas variáveis explicativas ou entre uma delas e as demais incluídas na equação de um modelo.\n",
        "\n",
        "Quando a correlação entre variáveis explicativas é alta, a eficiência dos coeficientes estimados diminui, e a variância da estimativa aumenta\n",
        "\n",
        "Situação ideal (ausência de multicolinearidade): correlação nula entre variáveis explicativas\n",
        "\n",
        "A multicolinearidade aumenta os erros padrão dos coeficientes. Quando os erros aumentam, algumas variáveis ficam estatisticamente insignificantes quando deveriam ser significativas\n",
        "\n",
        "Remover uma das variáveis que apresentem alta correlação entre si (explicam o mesmo comportamento, então são ambíguas)"
      ],
      "metadata": {
        "id": "4TlgdHERfg74"
      }
    },
    {
      "cell_type": "markdown",
      "source": [
        "## Ajuste e previsão"
      ],
      "metadata": {
        "id": "x_2uXjTKjPI5"
      }
    },
    {
      "cell_type": "code",
      "source": [
        "treino, teste = dataset_prep.randomSplit([0.7, 0.3], seed = 101)"
      ],
      "metadata": {
        "id": "gltXNrQUfFAC"
      },
      "execution_count": 48,
      "outputs": []
    },
    {
      "cell_type": "code",
      "source": [
        "treino.count()"
      ],
      "metadata": {
        "colab": {
          "base_uri": "https://localhost:8080/"
        },
        "id": "azfwc3eejZu-",
        "outputId": "cbac9e1d-3bab-4a31-e1d7-10830f971741"
      },
      "execution_count": 49,
      "outputs": [
        {
          "output_type": "execute_result",
          "data": {
            "text/plain": [
              "48528"
            ]
          },
          "metadata": {},
          "execution_count": 49
        }
      ]
    },
    {
      "cell_type": "code",
      "source": [
        "teste.count()"
      ],
      "metadata": {
        "colab": {
          "base_uri": "https://localhost:8080/"
        },
        "id": "vKDgHaEcjagS",
        "outputId": "5ba04bb4-99d7-4d24-9c04-d04fd4e3e8ea"
      },
      "execution_count": 50,
      "outputs": [
        {
          "output_type": "execute_result",
          "data": {
            "text/plain": [
              "20911"
            ]
          },
          "metadata": {},
          "execution_count": 50
        }
      ]
    },
    {
      "cell_type": "code",
      "source": [
        "lr = LinearRegression()"
      ],
      "metadata": {
        "id": "jip3V2xvjbMk"
      },
      "execution_count": 51,
      "outputs": []
    },
    {
      "cell_type": "code",
      "source": [
        "modelo_lr = lr.fit(treino)"
      ],
      "metadata": {
        "id": "FgCKMNDIjdY2"
      },
      "execution_count": 52,
      "outputs": []
    },
    {
      "cell_type": "code",
      "source": [
        "previsoes_lr_treino = modelo_lr.transform(treino)"
      ],
      "metadata": {
        "id": "f4KwTIrXjiwl"
      },
      "execution_count": 53,
      "outputs": []
    },
    {
      "cell_type": "code",
      "source": [
        "previsoes_lr_treino.show()"
      ],
      "metadata": {
        "colab": {
          "base_uri": "https://localhost:8080/"
        },
        "id": "1v5xnBa6jl5n",
        "outputId": "c6f1a3de-9b2b-411a-d71f-c4b989db410b"
      },
      "execution_count": 54,
      "outputs": [
        {
          "output_type": "stream",
          "name": "stdout",
          "text": [
            "+--------------------+--------+------------------+\n",
            "|            features|   label|        prediction|\n",
            "+--------------------+--------+------------------+\n",
            "|(17,[0,1,2,3,4,5,...|260000.0|443266.04737020144|\n",
            "|(17,[0,1,2,3,4,5,...|500000.0|1127455.8300462805|\n",
            "|(17,[0,1,2,3,4,5,...|308615.0|111210.49949889386|\n",
            "|(17,[0,1,2,3,4,5,...|279000.0|113587.95787719043|\n",
            "|(17,[0,1,2,3,4,5,...|545000.0|340703.71307873435|\n",
            "|(17,[0,1,2,3,4,5,...|449000.0|390571.99595798284|\n",
            "|(17,[0,1,2,3,4,5,...|479000.0| 444003.4297194885|\n",
            "|(17,[0,1,2,3,4,5,...|420000.0| 720022.1542161054|\n",
            "|(17,[0,1,2,3,4,5,...|265000.0|519406.05037395435|\n",
            "|(17,[0,1,2,3,4,5,...|490000.0| 845483.5388437647|\n",
            "|(17,[0,1,2,3,4,5,...|650000.0| 644931.4982488954|\n",
            "|(17,[0,1,2,3,4,5,...|379900.0| 448889.3339027724|\n",
            "|(17,[0,1,2,3,4,5,...|449000.0| 714548.9501108339|\n",
            "|(17,[0,1,2,3,4,5,...|190000.0| 411726.9411630478|\n",
            "|(17,[0,1,2,3,4,5,...|896000.0| 597499.4601552959|\n",
            "|(17,[0,1,2,3,4,5,...|679000.0| 864544.0129262989|\n",
            "|(17,[0,1,2,3,4,5,...|620000.0| 462766.7203440106|\n",
            "|(17,[0,1,2,3,4,5,...|727000.0|419082.43132300966|\n",
            "|(17,[0,1,2,3,4,5,...|880000.0| 742962.4865669494|\n",
            "|(17,[0,1,2,3,4,5,...|435000.0| 357556.2432515231|\n",
            "+--------------------+--------+------------------+\n",
            "only showing top 20 rows\n",
            "\n"
          ]
        }
      ]
    },
    {
      "cell_type": "markdown",
      "source": [
        "## Métricas"
      ],
      "metadata": {
        "id": "9YnTVs1Hkmns"
      }
    },
    {
      "cell_type": "code",
      "source": [
        "resumo_treino = modelo_lr.summary"
      ],
      "metadata": {
        "id": "3AzvBWSojn5p"
      },
      "execution_count": 55,
      "outputs": []
    },
    {
      "cell_type": "code",
      "source": [
        "resumo_treino.r2"
      ],
      "metadata": {
        "colab": {
          "base_uri": "https://localhost:8080/"
        },
        "id": "Urz--oFukq52",
        "outputId": "b195028b-0c75-453b-da94-ff461e4ed077"
      },
      "execution_count": 56,
      "outputs": [
        {
          "output_type": "execute_result",
          "data": {
            "text/plain": [
              "0.6655873678454578"
            ]
          },
          "metadata": {},
          "execution_count": 56
        }
      ]
    },
    {
      "cell_type": "code",
      "source": [
        "resumo_treino.rootMeanSquaredError"
      ],
      "metadata": {
        "colab": {
          "base_uri": "https://localhost:8080/"
        },
        "id": "m4CusSGgktx7",
        "outputId": "62ad61f2-d0d2-4221-e2d1-08ce829a780d"
      },
      "execution_count": 57,
      "outputs": [
        {
          "output_type": "execute_result",
          "data": {
            "text/plain": [
              "810348.969531623"
            ]
          },
          "metadata": {},
          "execution_count": 57
        }
      ]
    },
    {
      "cell_type": "code",
      "source": [
        "resumo_teste = modelo_lr.evaluate(teste)"
      ],
      "metadata": {
        "id": "F5a6W7n3kwQj"
      },
      "execution_count": 58,
      "outputs": []
    },
    {
      "cell_type": "code",
      "source": [
        "resumo_teste.r2"
      ],
      "metadata": {
        "colab": {
          "base_uri": "https://localhost:8080/"
        },
        "id": "zr0YD0pRkzUV",
        "outputId": "317b817d-d98d-4e8b-82fc-5bb8420765f3"
      },
      "execution_count": 59,
      "outputs": [
        {
          "output_type": "execute_result",
          "data": {
            "text/plain": [
              "0.6585207937774393"
            ]
          },
          "metadata": {},
          "execution_count": 59
        }
      ]
    },
    {
      "cell_type": "code",
      "source": [
        "resumo_teste.rootMeanSquaredError"
      ],
      "metadata": {
        "colab": {
          "base_uri": "https://localhost:8080/"
        },
        "id": "0V8OIELwk1UK",
        "outputId": "fa685322-e86a-4b76-a45a-711fda865bf7"
      },
      "execution_count": 60,
      "outputs": [
        {
          "output_type": "execute_result",
          "data": {
            "text/plain": [
              "800525.9696828632"
            ]
          },
          "metadata": {},
          "execution_count": 60
        }
      ]
    },
    {
      "cell_type": "markdown",
      "source": [
        "## Tabela resumo regressão linear"
      ],
      "metadata": {
        "id": "gguQjpj8k6g-"
      }
    },
    {
      "cell_type": "code",
      "source": [
        "print('Linear regression')\n",
        "print('='*30)\n",
        "print('Dados de treino')\n",
        "print('='*30)\n",
        "print('R²: %f' % resumo_treino.r2)\n",
        "print('RMSE: %f' % resumo_treino.rootMeanSquaredError)\n",
        "print('')\n",
        "print('='*30)\n",
        "print(\"Dados de teste\")\n",
        "print('='*30)\n",
        "print('R²: %f' % resumo_teste.r2)\n",
        "print('RMSE: %f' % resumo_teste.rootMeanSquaredError)"
      ],
      "metadata": {
        "colab": {
          "base_uri": "https://localhost:8080/"
        },
        "id": "ppPgMrZuk4QR",
        "outputId": "2196b5c9-a789-4e69-b633-97eb1bc095b6"
      },
      "execution_count": 61,
      "outputs": [
        {
          "output_type": "stream",
          "name": "stdout",
          "text": [
            "Linear regression\n",
            "==============================\n",
            "Dados de treino\n",
            "==============================\n",
            "R²: 0.665587\n",
            "RMSE: 810348.969532\n",
            "\n",
            "==============================\n",
            "Dados de teste\n",
            "==============================\n",
            "R²: 0.658521\n",
            "RMSE: 800525.969683\n"
          ]
        }
      ]
    },
    {
      "cell_type": "markdown",
      "source": [
        "# Árvore de decisão\n",
        "\n",
        "Estrutura:\n",
        "- Nó inicial (raiz)\n",
        "- Ramificações que geram novos nós\n",
        "- Folhas: nó especial com a informação da resposta\n",
        "\n",
        "No caso da regressão, a resposta é um valor numérico\n",
        "\n",
        "Cada ramo representa uma tomada de decisão a partir de um valor ou categoria das variáveis explicativas\n",
        "\n",
        "Critérios de divisão de nós = variância\n",
        "\n",
        "O algoritmo faz simulações para a separação dos dados com base em uma variável explicativa e extrai a média da variável alvo em cada nó formado"
      ],
      "metadata": {
        "id": "-4i_ZMkhD7Np"
      }
    },
    {
      "cell_type": "markdown",
      "source": [
        "## Ajuste e previsão"
      ],
      "metadata": {
        "id": "L0kZTo2VD-hT"
      }
    },
    {
      "cell_type": "code",
      "source": [
        "dtr = DecisionTreeRegressor(seed = 101, maxDepth = 7)"
      ],
      "metadata": {
        "id": "F5qrR4Lql-CC"
      },
      "execution_count": 62,
      "outputs": []
    },
    {
      "cell_type": "code",
      "source": [
        "modelo_dtr = dtr.fit(treino)"
      ],
      "metadata": {
        "id": "p7q7rZ4QQIQm"
      },
      "execution_count": 63,
      "outputs": []
    },
    {
      "cell_type": "code",
      "source": [
        "previsoes_dtr_treino = modelo_dtr.transform(treino)"
      ],
      "metadata": {
        "id": "qCFzIvj6QST_"
      },
      "execution_count": 65,
      "outputs": []
    },
    {
      "cell_type": "code",
      "source": [
        "previsoes_dtr_treino.show()"
      ],
      "metadata": {
        "colab": {
          "base_uri": "https://localhost:8080/"
        },
        "id": "ucm7fedxQYvf",
        "outputId": "101cd1a0-9ba4-4b94-f7bd-8df0a897771f"
      },
      "execution_count": 66,
      "outputs": [
        {
          "output_type": "stream",
          "name": "stdout",
          "text": [
            "+--------------------+--------+------------------+\n",
            "|            features|   label|        prediction|\n",
            "+--------------------+--------+------------------+\n",
            "|(17,[0,1,2,3,4,5,...|260000.0| 340855.8044843049|\n",
            "|(17,[0,1,2,3,4,5,...|500000.0| 553816.2525860447|\n",
            "|(17,[0,1,2,3,4,5,...|308615.0| 340855.8044843049|\n",
            "|(17,[0,1,2,3,4,5,...|279000.0| 340855.8044843049|\n",
            "|(17,[0,1,2,3,4,5,...|545000.0|     445137.460625|\n",
            "|(17,[0,1,2,3,4,5,...|449000.0| 553816.2525860447|\n",
            "|(17,[0,1,2,3,4,5,...|479000.0|     445137.460625|\n",
            "|(17,[0,1,2,3,4,5,...|420000.0| 553816.2525860447|\n",
            "|(17,[0,1,2,3,4,5,...|265000.0| 553816.2525860447|\n",
            "|(17,[0,1,2,3,4,5,...|490000.0|  820272.937751004|\n",
            "|(17,[0,1,2,3,4,5,...|650000.0|  736254.943802521|\n",
            "|(17,[0,1,2,3,4,5,...|379900.0|     445137.460625|\n",
            "|(17,[0,1,2,3,4,5,...|449000.0|     445137.460625|\n",
            "|(17,[0,1,2,3,4,5,...|190000.0| 340855.8044843049|\n",
            "|(17,[0,1,2,3,4,5,...|896000.0| 553816.2525860447|\n",
            "|(17,[0,1,2,3,4,5,...|679000.0|1158420.7653661144|\n",
            "|(17,[0,1,2,3,4,5,...|620000.0| 553816.2525860447|\n",
            "|(17,[0,1,2,3,4,5,...|727000.0| 553816.2525860447|\n",
            "|(17,[0,1,2,3,4,5,...|880000.0| 553816.2525860447|\n",
            "|(17,[0,1,2,3,4,5,...|435000.0| 340855.8044843049|\n",
            "+--------------------+--------+------------------+\n",
            "only showing top 20 rows\n",
            "\n"
          ]
        }
      ]
    },
    {
      "cell_type": "markdown",
      "source": [
        "## Avaliador de regressão\n",
        "\n",
        "[RegressionEvaluator](https://spark.apache.org/docs/latest/api/python/reference/api/pyspark.ml.evaluation.RegressionEvaluator.html)"
      ],
      "metadata": {
        "id": "ReOIX7pgQmOF"
      }
    },
    {
      "cell_type": "code",
      "source": [
        "evaluator = RegressionEvaluator()\n",
        "\n",
        "print(evaluator.evaluate(previsoes_dtr_treino, {evaluator.metricName: 'r2'}))\n",
        "print(evaluator.evaluate(previsoes_dtr_treino, {evaluator.metricName: 'rmse'}))"
      ],
      "metadata": {
        "colab": {
          "base_uri": "https://localhost:8080/"
        },
        "id": "tsMx4ZQkQems",
        "outputId": "92ac7094-58d1-4437-cdc4-e48eb2e7a13e"
      },
      "execution_count": 68,
      "outputs": [
        {
          "output_type": "stream",
          "name": "stdout",
          "text": [
            "0.7930752588471226\n",
            "637436.5434260432\n"
          ]
        }
      ]
    },
    {
      "cell_type": "code",
      "source": [
        "previsoes_dtr_teste = modelo_dtr.transform(teste)"
      ],
      "metadata": {
        "id": "R1sY1UqdRHKN"
      },
      "execution_count": 70,
      "outputs": []
    },
    {
      "cell_type": "code",
      "source": [
        "previsoes_dtr_teste.show()"
      ],
      "metadata": {
        "colab": {
          "base_uri": "https://localhost:8080/"
        },
        "id": "rP2xLgfMRMBk",
        "outputId": "178996ad-8b3c-4063-b891-b76b59c241cd"
      },
      "execution_count": 72,
      "outputs": [
        {
          "output_type": "stream",
          "name": "stdout",
          "text": [
            "+--------------------+---------+------------------+\n",
            "|            features|    label|        prediction|\n",
            "+--------------------+---------+------------------+\n",
            "|(17,[0,1,2,3,4,5,...| 199000.0| 340855.8044843049|\n",
            "|(17,[0,1,2,3,4,5,...| 350000.0|  820272.937751004|\n",
            "|(17,[0,1,2,3,4,5,...| 340000.0| 553816.2525860447|\n",
            "|(17,[0,1,2,3,4,5,...| 430000.0| 553816.2525860447|\n",
            "|(17,[0,1,2,3,4,5,...| 600000.0| 553816.2525860447|\n",
            "|(17,[0,1,2,3,4,5,...| 439000.0| 553816.2525860447|\n",
            "|(17,[0,1,2,3,4,5,...| 333000.0| 340855.8044843049|\n",
            "|(17,[0,1,2,3,4,5,...| 948000.0|  736254.943802521|\n",
            "|(17,[0,1,2,3,4,5,...| 459600.0| 340855.8044843049|\n",
            "|(17,[0,1,2,3,4,5,...| 447600.0| 340855.8044843049|\n",
            "|(17,[0,1,2,3,4,5,...| 360000.0| 340855.8044843049|\n",
            "|(17,[0,1,2,3,4,5,...| 407000.0| 553816.2525860447|\n",
            "|(17,[0,1,2,3,4,5,...| 310000.0| 340855.8044843049|\n",
            "|(17,[0,1,2,3,4,5,...|1400000.0|1289301.4891122277|\n",
            "|(17,[0,1,2,3,4,5,...|1180000.0|1289301.4891122277|\n",
            "|(17,[0,1,2,3,4,5,...|1299500.0|1158420.7653661144|\n",
            "|(17,[0,1,2,3,4,5,...| 296100.0| 340855.8044843049|\n",
            "|(17,[0,1,2,3,4,5,...| 285000.0| 340855.8044843049|\n",
            "|(17,[0,1,2,3,4,5,...| 679720.0| 553816.2525860447|\n",
            "|(17,[0,1,2,3,4,5,...| 509150.0| 553816.2525860447|\n",
            "+--------------------+---------+------------------+\n",
            "only showing top 20 rows\n",
            "\n"
          ]
        }
      ]
    },
    {
      "cell_type": "code",
      "source": [
        "print('Decision Tree Regression')\n",
        "print('='*30)\n",
        "print('Dados de treino')\n",
        "print('='*30)\n",
        "print('R²: %f' % evaluator.evaluate(previsoes_dtr_treino, {evaluator.metricName: 'r2'}))\n",
        "print('RMSE: %f' % evaluator.evaluate(previsoes_dtr_treino, {evaluator.metricName: 'rmse'}))\n",
        "print('')\n",
        "print('='*30)\n",
        "print(\"Dados de teste\")\n",
        "print('='*30)\n",
        "print('R²: %f' % evaluator.evaluate(previsoes_dtr_teste, {evaluator.metricName: 'r2'}))\n",
        "print('RMSE: %f' % evaluator.evaluate(previsoes_dtr_teste, {evaluator.metricName: 'rmse'}))"
      ],
      "metadata": {
        "colab": {
          "base_uri": "https://localhost:8080/"
        },
        "id": "esLtfPjKRQnt",
        "outputId": "e69e1b12-0aac-4e98-f384-7c63ddc82fdf"
      },
      "execution_count": 73,
      "outputs": [
        {
          "output_type": "stream",
          "name": "stdout",
          "text": [
            "Decision Tree Regression\n",
            "==============================\n",
            "Dados de treino\n",
            "==============================\n",
            "R²: 0.793075\n",
            "RMSE: 637436.543426\n",
            "\n",
            "==============================\n",
            "Dados de teste\n",
            "==============================\n",
            "R²: 0.773813\n",
            "RMSE: 651518.489921\n"
          ]
        }
      ]
    },
    {
      "cell_type": "markdown",
      "source": [
        "R² = porcentagem de variação da variável resposta que é explicada pelo modelo de regressão\n",
        "\n",
        "RMSE = root mean squared error = raiz quadrada do erro médio entre os valores reais e as predições da regressão\n",
        "Quanto menor o valor, melhor será o modelo"
      ],
      "metadata": {
        "id": "443EezO5R-8m"
      }
    },
    {
      "cell_type": "markdown",
      "source": [
        "# Random Forest\n",
        "\n",
        "Aprendizado de ensemble = utiliza diferentes algoritmos combinados para obter a predição mais correta\n",
        "\n",
        "Bootstrap aggragating\n",
        "- são extraídos subconjuntos dos dados originais\n",
        "- são gerados diferentes modelos para cada um dos subconjuntos\n",
        "- diferenciação entre os resultados obtidos em cada modelo\n",
        "- amostragem por reposição\n",
        "\n",
        "Vantagens:\n",
        "- Mantém uma boa previsão mesmo que haja dados faltantes\n",
        "- Funciona de forma eficiente mesmo em conjunto de dados grande\n",
        "\n",
        "Desvantagens:\n",
        "- Requer mais recursos computacionais (por ser ensemble)\n",
        "- Demora mais para treinar e prever"
      ],
      "metadata": {
        "id": "G7-NO9ZDU-Be"
      }
    },
    {
      "cell_type": "markdown",
      "source": [
        "## Ajuste e previsão"
      ],
      "metadata": {
        "id": "cy_YxB1uaQHk"
      }
    },
    {
      "cell_type": "code",
      "source": [
        "rfr = RandomForestRegressor(seed = 101, maxDepth = 7, numTrees = 10)"
      ],
      "metadata": {
        "id": "roFAdH6TRnmJ"
      },
      "execution_count": 76,
      "outputs": []
    },
    {
      "cell_type": "code",
      "source": [
        "modelo_rfr = rfr.fit(treino)"
      ],
      "metadata": {
        "id": "mLMs_SdyaD9c"
      },
      "execution_count": 77,
      "outputs": []
    },
    {
      "cell_type": "code",
      "source": [
        "previsoes_rfr_treino = modelo_rfr.transform(treino)"
      ],
      "metadata": {
        "id": "WdP8hEQYaGe2"
      },
      "execution_count": 78,
      "outputs": []
    },
    {
      "cell_type": "code",
      "source": [
        "previsoes_rfr_treino.show()"
      ],
      "metadata": {
        "colab": {
          "base_uri": "https://localhost:8080/"
        },
        "id": "bNJjsWo1aLXF",
        "outputId": "57b11a4c-7c5b-4258-88de-da6462675366"
      },
      "execution_count": 79,
      "outputs": [
        {
          "output_type": "stream",
          "name": "stdout",
          "text": [
            "+--------------------+--------+------------------+\n",
            "|            features|   label|        prediction|\n",
            "+--------------------+--------+------------------+\n",
            "|(17,[0,1,2,3,4,5,...|260000.0|390218.33742322924|\n",
            "|(17,[0,1,2,3,4,5,...|500000.0| 510060.6595782173|\n",
            "|(17,[0,1,2,3,4,5,...|308615.0|360766.74127901345|\n",
            "|(17,[0,1,2,3,4,5,...|279000.0|360766.74127901345|\n",
            "|(17,[0,1,2,3,4,5,...|545000.0|  396904.928725379|\n",
            "|(17,[0,1,2,3,4,5,...|449000.0|  492913.652312712|\n",
            "|(17,[0,1,2,3,4,5,...|479000.0|433807.13396085694|\n",
            "|(17,[0,1,2,3,4,5,...|420000.0| 664440.4325776277|\n",
            "|(17,[0,1,2,3,4,5,...|265000.0|479615.50733929937|\n",
            "|(17,[0,1,2,3,4,5,...|490000.0| 816123.0337632223|\n",
            "|(17,[0,1,2,3,4,5,...|650000.0| 640247.1517314625|\n",
            "|(17,[0,1,2,3,4,5,...|379900.0|403131.21721626434|\n",
            "|(17,[0,1,2,3,4,5,...|449000.0|403131.21721626434|\n",
            "|(17,[0,1,2,3,4,5,...|190000.0| 356904.3339549792|\n",
            "|(17,[0,1,2,3,4,5,...|896000.0| 547828.3209496561|\n",
            "|(17,[0,1,2,3,4,5,...|679000.0| 893791.6624292185|\n",
            "|(17,[0,1,2,3,4,5,...|620000.0| 526635.5362588142|\n",
            "|(17,[0,1,2,3,4,5,...|727000.0| 526635.5362588142|\n",
            "|(17,[0,1,2,3,4,5,...|880000.0| 526635.5362588142|\n",
            "|(17,[0,1,2,3,4,5,...|435000.0| 356904.3339549792|\n",
            "+--------------------+--------+------------------+\n",
            "only showing top 20 rows\n",
            "\n"
          ]
        }
      ]
    },
    {
      "cell_type": "markdown",
      "source": [
        "## Métricas"
      ],
      "metadata": {
        "id": "fbJjHAvIaOEC"
      }
    },
    {
      "cell_type": "code",
      "source": [
        "print(evaluator.evaluate(previsoes_rfr_treino, {evaluator.metricName: 'r2'}))\n",
        "print(evaluator.evaluate(previsoes_rfr_treino, {evaluator.metricName: 'rmse'}))"
      ],
      "metadata": {
        "colab": {
          "base_uri": "https://localhost:8080/"
        },
        "id": "qakWBP_7aNEn",
        "outputId": "6778336b-7fa0-4df5-c885-5fbe5b5f156f"
      },
      "execution_count": 80,
      "outputs": [
        {
          "output_type": "stream",
          "name": "stdout",
          "text": [
            "0.8017561510914318\n",
            "623922.4426224458\n"
          ]
        }
      ]
    },
    {
      "cell_type": "code",
      "source": [
        "previsoes_rfr_teste = modelo_rfr.transform(teste)"
      ],
      "metadata": {
        "id": "v86ifvTMaeFN"
      },
      "execution_count": 81,
      "outputs": []
    },
    {
      "cell_type": "code",
      "source": [
        "previsoes_rfr_teste.show()"
      ],
      "metadata": {
        "colab": {
          "base_uri": "https://localhost:8080/"
        },
        "id": "5uuk7ELOateK",
        "outputId": "31edfa20-1351-44be-bb04-295226494e8a"
      },
      "execution_count": 82,
      "outputs": [
        {
          "output_type": "stream",
          "name": "stdout",
          "text": [
            "+--------------------+---------+------------------+\n",
            "|            features|    label|        prediction|\n",
            "+--------------------+---------+------------------+\n",
            "|(17,[0,1,2,3,4,5,...| 199000.0| 350678.0454640939|\n",
            "|(17,[0,1,2,3,4,5,...| 350000.0| 792518.9735011571|\n",
            "|(17,[0,1,2,3,4,5,...| 340000.0|479615.50733929937|\n",
            "|(17,[0,1,2,3,4,5,...| 430000.0| 526635.5362588142|\n",
            "|(17,[0,1,2,3,4,5,...| 600000.0| 526635.5362588142|\n",
            "|(17,[0,1,2,3,4,5,...| 439000.0| 550795.8732599718|\n",
            "|(17,[0,1,2,3,4,5,...| 333000.0| 356904.3339549792|\n",
            "|(17,[0,1,2,3,4,5,...| 948000.0| 640247.1517314625|\n",
            "|(17,[0,1,2,3,4,5,...| 459600.0| 356904.3339549792|\n",
            "|(17,[0,1,2,3,4,5,...| 447600.0| 356904.3339549792|\n",
            "|(17,[0,1,2,3,4,5,...| 360000.0| 356904.3339549792|\n",
            "|(17,[0,1,2,3,4,5,...| 407000.0|  492913.652312712|\n",
            "|(17,[0,1,2,3,4,5,...| 310000.0|412580.35636663495|\n",
            "|(17,[0,1,2,3,4,5,...|1400000.0| 1375418.570408164|\n",
            "|(17,[0,1,2,3,4,5,...|1180000.0| 1375418.570408164|\n",
            "|(17,[0,1,2,3,4,5,...|1299500.0|1111896.8209940076|\n",
            "|(17,[0,1,2,3,4,5,...| 296100.0| 352263.6404621517|\n",
            "|(17,[0,1,2,3,4,5,...| 285000.0| 352263.6404621517|\n",
            "|(17,[0,1,2,3,4,5,...| 679720.0| 580272.9453894051|\n",
            "|(17,[0,1,2,3,4,5,...| 509150.0| 508101.1046743891|\n",
            "+--------------------+---------+------------------+\n",
            "only showing top 20 rows\n",
            "\n"
          ]
        }
      ]
    },
    {
      "cell_type": "code",
      "source": [
        "print('Random Forest Regression')\n",
        "print('='*30)\n",
        "print('Dados de treino')\n",
        "print('='*30)\n",
        "print('R²: %f' % evaluator.evaluate(previsoes_rfr_treino, {evaluator.metricName: 'r2'}))\n",
        "print('RMSE: %f' % evaluator.evaluate(previsoes_rfr_treino, {evaluator.metricName: 'rmse'}))\n",
        "print('')\n",
        "print('='*30)\n",
        "print(\"Dados de teste\")\n",
        "print('='*30)\n",
        "print('R²: %f' % evaluator.evaluate(previsoes_rfr_teste, {evaluator.metricName: 'r2'}))\n",
        "print('RMSE: %f' % evaluator.evaluate(previsoes_rfr_teste, {evaluator.metricName: 'rmse'}))"
      ],
      "metadata": {
        "colab": {
          "base_uri": "https://localhost:8080/"
        },
        "id": "eGO8DaEwau_V",
        "outputId": "c7533f20-0cb0-48ec-c7f4-670668d7ec20"
      },
      "execution_count": 83,
      "outputs": [
        {
          "output_type": "stream",
          "name": "stdout",
          "text": [
            "Random Forest Regression\n",
            "==============================\n",
            "Dados de treino\n",
            "==============================\n",
            "R²: 0.801756\n",
            "RMSE: 623922.442622\n",
            "\n",
            "==============================\n",
            "Dados de teste\n",
            "==============================\n",
            "R²: 0.790530\n",
            "RMSE: 626981.467738\n"
          ]
        }
      ]
    },
    {
      "cell_type": "code",
      "source": [],
      "metadata": {
        "id": "AkK_wqH3a7CE"
      },
      "execution_count": null,
      "outputs": []
    }
  ]
}